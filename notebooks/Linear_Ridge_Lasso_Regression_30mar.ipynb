{
 "cells": [
  {
   "cell_type": "code",
   "execution_count": 1,
   "id": "90629e89-3873-46fb-aa92-8227706c6cbc",
   "metadata": {},
   "outputs": [],
   "source": [
    "import pandas as pd\n",
    "import numpy as np\n",
    "import seaborn as sns\n",
    "import matplotlib.pyplot as plt\n",
    "%matplotlib inline"
   ]
  },
  {
   "cell_type": "code",
   "execution_count": 2,
   "id": "93c40316-d130-4712-b326-1fd7af141a8f",
   "metadata": {},
   "outputs": [
    {
     "data": {
      "text/html": [
       "<div>\n",
       "<style scoped>\n",
       "    .dataframe tbody tr th:only-of-type {\n",
       "        vertical-align: middle;\n",
       "    }\n",
       "\n",
       "    .dataframe tbody tr th {\n",
       "        vertical-align: top;\n",
       "    }\n",
       "\n",
       "    .dataframe thead th {\n",
       "        text-align: right;\n",
       "    }\n",
       "</style>\n",
       "<table border=\"1\" class=\"dataframe\">\n",
       "  <thead>\n",
       "    <tr style=\"text-align: right;\">\n",
       "      <th></th>\n",
       "      <th>day</th>\n",
       "      <th>month</th>\n",
       "      <th>year</th>\n",
       "      <th>Temperature</th>\n",
       "      <th>RH</th>\n",
       "      <th>Ws</th>\n",
       "      <th>Rain</th>\n",
       "      <th>FFMC</th>\n",
       "      <th>DMC</th>\n",
       "      <th>DC</th>\n",
       "      <th>ISI</th>\n",
       "      <th>BUI</th>\n",
       "      <th>FWI</th>\n",
       "      <th>Classes</th>\n",
       "      <th>region</th>\n",
       "    </tr>\n",
       "  </thead>\n",
       "  <tbody>\n",
       "    <tr>\n",
       "      <th>0</th>\n",
       "      <td>1</td>\n",
       "      <td>6</td>\n",
       "      <td>2012</td>\n",
       "      <td>29</td>\n",
       "      <td>57</td>\n",
       "      <td>18</td>\n",
       "      <td>0.0</td>\n",
       "      <td>65.7</td>\n",
       "      <td>3.4</td>\n",
       "      <td>7.6</td>\n",
       "      <td>1.3</td>\n",
       "      <td>3.4</td>\n",
       "      <td>0.5</td>\n",
       "      <td>not fire</td>\n",
       "      <td>0</td>\n",
       "    </tr>\n",
       "    <tr>\n",
       "      <th>1</th>\n",
       "      <td>2</td>\n",
       "      <td>6</td>\n",
       "      <td>2012</td>\n",
       "      <td>29</td>\n",
       "      <td>61</td>\n",
       "      <td>13</td>\n",
       "      <td>1.3</td>\n",
       "      <td>64.4</td>\n",
       "      <td>4.1</td>\n",
       "      <td>7.6</td>\n",
       "      <td>1.0</td>\n",
       "      <td>3.9</td>\n",
       "      <td>0.4</td>\n",
       "      <td>not fire</td>\n",
       "      <td>0</td>\n",
       "    </tr>\n",
       "    <tr>\n",
       "      <th>2</th>\n",
       "      <td>3</td>\n",
       "      <td>6</td>\n",
       "      <td>2012</td>\n",
       "      <td>26</td>\n",
       "      <td>82</td>\n",
       "      <td>22</td>\n",
       "      <td>13.1</td>\n",
       "      <td>47.1</td>\n",
       "      <td>2.5</td>\n",
       "      <td>7.1</td>\n",
       "      <td>0.3</td>\n",
       "      <td>2.7</td>\n",
       "      <td>0.1</td>\n",
       "      <td>not fire</td>\n",
       "      <td>0</td>\n",
       "    </tr>\n",
       "    <tr>\n",
       "      <th>3</th>\n",
       "      <td>4</td>\n",
       "      <td>6</td>\n",
       "      <td>2012</td>\n",
       "      <td>25</td>\n",
       "      <td>89</td>\n",
       "      <td>13</td>\n",
       "      <td>2.5</td>\n",
       "      <td>28.6</td>\n",
       "      <td>1.3</td>\n",
       "      <td>6.9</td>\n",
       "      <td>0.0</td>\n",
       "      <td>1.7</td>\n",
       "      <td>0.0</td>\n",
       "      <td>not fire</td>\n",
       "      <td>0</td>\n",
       "    </tr>\n",
       "    <tr>\n",
       "      <th>4</th>\n",
       "      <td>5</td>\n",
       "      <td>6</td>\n",
       "      <td>2012</td>\n",
       "      <td>27</td>\n",
       "      <td>77</td>\n",
       "      <td>16</td>\n",
       "      <td>0.0</td>\n",
       "      <td>64.8</td>\n",
       "      <td>3.0</td>\n",
       "      <td>14.2</td>\n",
       "      <td>1.2</td>\n",
       "      <td>3.9</td>\n",
       "      <td>0.5</td>\n",
       "      <td>not fire</td>\n",
       "      <td>0</td>\n",
       "    </tr>\n",
       "    <tr>\n",
       "      <th>...</th>\n",
       "      <td>...</td>\n",
       "      <td>...</td>\n",
       "      <td>...</td>\n",
       "      <td>...</td>\n",
       "      <td>...</td>\n",
       "      <td>...</td>\n",
       "      <td>...</td>\n",
       "      <td>...</td>\n",
       "      <td>...</td>\n",
       "      <td>...</td>\n",
       "      <td>...</td>\n",
       "      <td>...</td>\n",
       "      <td>...</td>\n",
       "      <td>...</td>\n",
       "      <td>...</td>\n",
       "    </tr>\n",
       "    <tr>\n",
       "      <th>238</th>\n",
       "      <td>26</td>\n",
       "      <td>9</td>\n",
       "      <td>2012</td>\n",
       "      <td>30</td>\n",
       "      <td>65</td>\n",
       "      <td>14</td>\n",
       "      <td>0.0</td>\n",
       "      <td>85.4</td>\n",
       "      <td>16.0</td>\n",
       "      <td>44.5</td>\n",
       "      <td>4.5</td>\n",
       "      <td>16.9</td>\n",
       "      <td>6.5</td>\n",
       "      <td>fire</td>\n",
       "      <td>1</td>\n",
       "    </tr>\n",
       "    <tr>\n",
       "      <th>239</th>\n",
       "      <td>27</td>\n",
       "      <td>9</td>\n",
       "      <td>2012</td>\n",
       "      <td>28</td>\n",
       "      <td>87</td>\n",
       "      <td>15</td>\n",
       "      <td>4.4</td>\n",
       "      <td>41.1</td>\n",
       "      <td>6.5</td>\n",
       "      <td>8.0</td>\n",
       "      <td>0.1</td>\n",
       "      <td>6.2</td>\n",
       "      <td>0.0</td>\n",
       "      <td>not fire</td>\n",
       "      <td>1</td>\n",
       "    </tr>\n",
       "    <tr>\n",
       "      <th>240</th>\n",
       "      <td>28</td>\n",
       "      <td>9</td>\n",
       "      <td>2012</td>\n",
       "      <td>27</td>\n",
       "      <td>87</td>\n",
       "      <td>29</td>\n",
       "      <td>0.5</td>\n",
       "      <td>45.9</td>\n",
       "      <td>3.5</td>\n",
       "      <td>7.9</td>\n",
       "      <td>0.4</td>\n",
       "      <td>3.4</td>\n",
       "      <td>0.2</td>\n",
       "      <td>not fire</td>\n",
       "      <td>1</td>\n",
       "    </tr>\n",
       "    <tr>\n",
       "      <th>241</th>\n",
       "      <td>29</td>\n",
       "      <td>9</td>\n",
       "      <td>2012</td>\n",
       "      <td>24</td>\n",
       "      <td>54</td>\n",
       "      <td>18</td>\n",
       "      <td>0.1</td>\n",
       "      <td>79.7</td>\n",
       "      <td>4.3</td>\n",
       "      <td>15.2</td>\n",
       "      <td>1.7</td>\n",
       "      <td>5.1</td>\n",
       "      <td>0.7</td>\n",
       "      <td>not fire</td>\n",
       "      <td>1</td>\n",
       "    </tr>\n",
       "    <tr>\n",
       "      <th>242</th>\n",
       "      <td>30</td>\n",
       "      <td>9</td>\n",
       "      <td>2012</td>\n",
       "      <td>24</td>\n",
       "      <td>64</td>\n",
       "      <td>15</td>\n",
       "      <td>0.2</td>\n",
       "      <td>67.3</td>\n",
       "      <td>3.8</td>\n",
       "      <td>16.5</td>\n",
       "      <td>1.2</td>\n",
       "      <td>4.8</td>\n",
       "      <td>0.5</td>\n",
       "      <td>not fire</td>\n",
       "      <td>1</td>\n",
       "    </tr>\n",
       "  </tbody>\n",
       "</table>\n",
       "<p>243 rows × 15 columns</p>\n",
       "</div>"
      ],
      "text/plain": [
       "     day  month  year  Temperature  RH  Ws  Rain  FFMC   DMC    DC  ISI   BUI  \\\n",
       "0      1      6  2012           29  57  18   0.0  65.7   3.4   7.6  1.3   3.4   \n",
       "1      2      6  2012           29  61  13   1.3  64.4   4.1   7.6  1.0   3.9   \n",
       "2      3      6  2012           26  82  22  13.1  47.1   2.5   7.1  0.3   2.7   \n",
       "3      4      6  2012           25  89  13   2.5  28.6   1.3   6.9  0.0   1.7   \n",
       "4      5      6  2012           27  77  16   0.0  64.8   3.0  14.2  1.2   3.9   \n",
       "..   ...    ...   ...          ...  ..  ..   ...   ...   ...   ...  ...   ...   \n",
       "238   26      9  2012           30  65  14   0.0  85.4  16.0  44.5  4.5  16.9   \n",
       "239   27      9  2012           28  87  15   4.4  41.1   6.5   8.0  0.1   6.2   \n",
       "240   28      9  2012           27  87  29   0.5  45.9   3.5   7.9  0.4   3.4   \n",
       "241   29      9  2012           24  54  18   0.1  79.7   4.3  15.2  1.7   5.1   \n",
       "242   30      9  2012           24  64  15   0.2  67.3   3.8  16.5  1.2   4.8   \n",
       "\n",
       "     FWI   Classes  region  \n",
       "0    0.5  not fire       0  \n",
       "1    0.4  not fire       0  \n",
       "2    0.1  not fire       0  \n",
       "3    0.0  not fire       0  \n",
       "4    0.5  not fire       0  \n",
       "..   ...       ...     ...  \n",
       "238  6.5      fire       1  \n",
       "239  0.0  not fire       1  \n",
       "240  0.2  not fire       1  \n",
       "241  0.7  not fire       1  \n",
       "242  0.5  not fire       1  \n",
       "\n",
       "[243 rows x 15 columns]"
      ]
     },
     "execution_count": 2,
     "metadata": {},
     "output_type": "execute_result"
    }
   ],
   "source": [
    "df=pd.read_csv(\"Algerian_forest_fires_cleaned_dataset2.csv\")\n",
    "df"
   ]
  },
  {
   "cell_type": "code",
   "execution_count": 3,
   "id": "0d74e425-cb96-466f-bea1-2460cf3da5be",
   "metadata": {},
   "outputs": [
    {
     "data": {
      "text/plain": [
       "fire        137\n",
       "not fire    106\n",
       "Name: Classes, dtype: int64"
      ]
     },
     "execution_count": 3,
     "metadata": {},
     "output_type": "execute_result"
    }
   ],
   "source": [
    "df['Classes'].value_counts()"
   ]
  },
  {
   "cell_type": "code",
   "execution_count": 4,
   "id": "ff4f623f-25e9-4831-b54a-5d560cf04a37",
   "metadata": {},
   "outputs": [
    {
     "data": {
      "text/plain": [
       "day            0\n",
       "month          0\n",
       "year           0\n",
       "Temperature    0\n",
       "RH             0\n",
       "Ws             0\n",
       "Rain           0\n",
       "FFMC           0\n",
       "DMC            0\n",
       "DC             0\n",
       "ISI            0\n",
       "BUI            0\n",
       "FWI            0\n",
       "Classes        0\n",
       "region         0\n",
       "dtype: int64"
      ]
     },
     "execution_count": 4,
     "metadata": {},
     "output_type": "execute_result"
    }
   ],
   "source": [
    "df.isnull().sum()"
   ]
  },
  {
   "cell_type": "code",
   "execution_count": 5,
   "id": "35ba34b5-c936-4255-9bc5-e165328eb75f",
   "metadata": {},
   "outputs": [],
   "source": [
    "df.drop(['day',\t'month'\t,'year'],axis=1,inplace=True)"
   ]
  },
  {
   "cell_type": "code",
   "execution_count": 6,
   "id": "ec9fae26-f30a-4f1d-b468-bba1720dc779",
   "metadata": {},
   "outputs": [
    {
     "data": {
      "text/html": [
       "<div>\n",
       "<style scoped>\n",
       "    .dataframe tbody tr th:only-of-type {\n",
       "        vertical-align: middle;\n",
       "    }\n",
       "\n",
       "    .dataframe tbody tr th {\n",
       "        vertical-align: top;\n",
       "    }\n",
       "\n",
       "    .dataframe thead th {\n",
       "        text-align: right;\n",
       "    }\n",
       "</style>\n",
       "<table border=\"1\" class=\"dataframe\">\n",
       "  <thead>\n",
       "    <tr style=\"text-align: right;\">\n",
       "      <th></th>\n",
       "      <th>Temperature</th>\n",
       "      <th>RH</th>\n",
       "      <th>Ws</th>\n",
       "      <th>Rain</th>\n",
       "      <th>FFMC</th>\n",
       "      <th>DMC</th>\n",
       "      <th>DC</th>\n",
       "      <th>ISI</th>\n",
       "      <th>BUI</th>\n",
       "      <th>FWI</th>\n",
       "      <th>Classes</th>\n",
       "      <th>region</th>\n",
       "    </tr>\n",
       "  </thead>\n",
       "  <tbody>\n",
       "    <tr>\n",
       "      <th>0</th>\n",
       "      <td>29</td>\n",
       "      <td>57</td>\n",
       "      <td>18</td>\n",
       "      <td>0.0</td>\n",
       "      <td>65.7</td>\n",
       "      <td>3.4</td>\n",
       "      <td>7.6</td>\n",
       "      <td>1.3</td>\n",
       "      <td>3.4</td>\n",
       "      <td>0.5</td>\n",
       "      <td>not fire</td>\n",
       "      <td>0</td>\n",
       "    </tr>\n",
       "    <tr>\n",
       "      <th>1</th>\n",
       "      <td>29</td>\n",
       "      <td>61</td>\n",
       "      <td>13</td>\n",
       "      <td>1.3</td>\n",
       "      <td>64.4</td>\n",
       "      <td>4.1</td>\n",
       "      <td>7.6</td>\n",
       "      <td>1.0</td>\n",
       "      <td>3.9</td>\n",
       "      <td>0.4</td>\n",
       "      <td>not fire</td>\n",
       "      <td>0</td>\n",
       "    </tr>\n",
       "  </tbody>\n",
       "</table>\n",
       "</div>"
      ],
      "text/plain": [
       "   Temperature  RH  Ws  Rain  FFMC  DMC   DC  ISI  BUI  FWI   Classes  region\n",
       "0           29  57  18   0.0  65.7  3.4  7.6  1.3  3.4  0.5  not fire       0\n",
       "1           29  61  13   1.3  64.4  4.1  7.6  1.0  3.9  0.4  not fire       0"
      ]
     },
     "execution_count": 6,
     "metadata": {},
     "output_type": "execute_result"
    }
   ],
   "source": [
    "df.head(2)"
   ]
  },
  {
   "cell_type": "code",
   "execution_count": 7,
   "id": "63d34d0e-77e6-4d38-b1da-fa55cce31ea3",
   "metadata": {},
   "outputs": [],
   "source": [
    "df['Classes']=np.where(df['Classes']=='fire',1,0)"
   ]
  },
  {
   "cell_type": "code",
   "execution_count": 8,
   "id": "7a7e8d40-8551-4f2a-a9e8-6d88d6c21c1a",
   "metadata": {},
   "outputs": [
    {
     "data": {
      "text/html": [
       "<div>\n",
       "<style scoped>\n",
       "    .dataframe tbody tr th:only-of-type {\n",
       "        vertical-align: middle;\n",
       "    }\n",
       "\n",
       "    .dataframe tbody tr th {\n",
       "        vertical-align: top;\n",
       "    }\n",
       "\n",
       "    .dataframe thead th {\n",
       "        text-align: right;\n",
       "    }\n",
       "</style>\n",
       "<table border=\"1\" class=\"dataframe\">\n",
       "  <thead>\n",
       "    <tr style=\"text-align: right;\">\n",
       "      <th></th>\n",
       "      <th>Temperature</th>\n",
       "      <th>RH</th>\n",
       "      <th>Ws</th>\n",
       "      <th>Rain</th>\n",
       "      <th>FFMC</th>\n",
       "      <th>DMC</th>\n",
       "      <th>DC</th>\n",
       "      <th>ISI</th>\n",
       "      <th>BUI</th>\n",
       "      <th>FWI</th>\n",
       "      <th>Classes</th>\n",
       "      <th>region</th>\n",
       "    </tr>\n",
       "  </thead>\n",
       "  <tbody>\n",
       "    <tr>\n",
       "      <th>0</th>\n",
       "      <td>29</td>\n",
       "      <td>57</td>\n",
       "      <td>18</td>\n",
       "      <td>0.0</td>\n",
       "      <td>65.7</td>\n",
       "      <td>3.4</td>\n",
       "      <td>7.6</td>\n",
       "      <td>1.3</td>\n",
       "      <td>3.4</td>\n",
       "      <td>0.5</td>\n",
       "      <td>0</td>\n",
       "      <td>0</td>\n",
       "    </tr>\n",
       "    <tr>\n",
       "      <th>1</th>\n",
       "      <td>29</td>\n",
       "      <td>61</td>\n",
       "      <td>13</td>\n",
       "      <td>1.3</td>\n",
       "      <td>64.4</td>\n",
       "      <td>4.1</td>\n",
       "      <td>7.6</td>\n",
       "      <td>1.0</td>\n",
       "      <td>3.9</td>\n",
       "      <td>0.4</td>\n",
       "      <td>0</td>\n",
       "      <td>0</td>\n",
       "    </tr>\n",
       "    <tr>\n",
       "      <th>2</th>\n",
       "      <td>26</td>\n",
       "      <td>82</td>\n",
       "      <td>22</td>\n",
       "      <td>13.1</td>\n",
       "      <td>47.1</td>\n",
       "      <td>2.5</td>\n",
       "      <td>7.1</td>\n",
       "      <td>0.3</td>\n",
       "      <td>2.7</td>\n",
       "      <td>0.1</td>\n",
       "      <td>0</td>\n",
       "      <td>0</td>\n",
       "    </tr>\n",
       "    <tr>\n",
       "      <th>3</th>\n",
       "      <td>25</td>\n",
       "      <td>89</td>\n",
       "      <td>13</td>\n",
       "      <td>2.5</td>\n",
       "      <td>28.6</td>\n",
       "      <td>1.3</td>\n",
       "      <td>6.9</td>\n",
       "      <td>0.0</td>\n",
       "      <td>1.7</td>\n",
       "      <td>0.0</td>\n",
       "      <td>0</td>\n",
       "      <td>0</td>\n",
       "    </tr>\n",
       "    <tr>\n",
       "      <th>4</th>\n",
       "      <td>27</td>\n",
       "      <td>77</td>\n",
       "      <td>16</td>\n",
       "      <td>0.0</td>\n",
       "      <td>64.8</td>\n",
       "      <td>3.0</td>\n",
       "      <td>14.2</td>\n",
       "      <td>1.2</td>\n",
       "      <td>3.9</td>\n",
       "      <td>0.5</td>\n",
       "      <td>0</td>\n",
       "      <td>0</td>\n",
       "    </tr>\n",
       "    <tr>\n",
       "      <th>...</th>\n",
       "      <td>...</td>\n",
       "      <td>...</td>\n",
       "      <td>...</td>\n",
       "      <td>...</td>\n",
       "      <td>...</td>\n",
       "      <td>...</td>\n",
       "      <td>...</td>\n",
       "      <td>...</td>\n",
       "      <td>...</td>\n",
       "      <td>...</td>\n",
       "      <td>...</td>\n",
       "      <td>...</td>\n",
       "    </tr>\n",
       "    <tr>\n",
       "      <th>238</th>\n",
       "      <td>30</td>\n",
       "      <td>65</td>\n",
       "      <td>14</td>\n",
       "      <td>0.0</td>\n",
       "      <td>85.4</td>\n",
       "      <td>16.0</td>\n",
       "      <td>44.5</td>\n",
       "      <td>4.5</td>\n",
       "      <td>16.9</td>\n",
       "      <td>6.5</td>\n",
       "      <td>1</td>\n",
       "      <td>1</td>\n",
       "    </tr>\n",
       "    <tr>\n",
       "      <th>239</th>\n",
       "      <td>28</td>\n",
       "      <td>87</td>\n",
       "      <td>15</td>\n",
       "      <td>4.4</td>\n",
       "      <td>41.1</td>\n",
       "      <td>6.5</td>\n",
       "      <td>8.0</td>\n",
       "      <td>0.1</td>\n",
       "      <td>6.2</td>\n",
       "      <td>0.0</td>\n",
       "      <td>0</td>\n",
       "      <td>1</td>\n",
       "    </tr>\n",
       "    <tr>\n",
       "      <th>240</th>\n",
       "      <td>27</td>\n",
       "      <td>87</td>\n",
       "      <td>29</td>\n",
       "      <td>0.5</td>\n",
       "      <td>45.9</td>\n",
       "      <td>3.5</td>\n",
       "      <td>7.9</td>\n",
       "      <td>0.4</td>\n",
       "      <td>3.4</td>\n",
       "      <td>0.2</td>\n",
       "      <td>0</td>\n",
       "      <td>1</td>\n",
       "    </tr>\n",
       "    <tr>\n",
       "      <th>241</th>\n",
       "      <td>24</td>\n",
       "      <td>54</td>\n",
       "      <td>18</td>\n",
       "      <td>0.1</td>\n",
       "      <td>79.7</td>\n",
       "      <td>4.3</td>\n",
       "      <td>15.2</td>\n",
       "      <td>1.7</td>\n",
       "      <td>5.1</td>\n",
       "      <td>0.7</td>\n",
       "      <td>0</td>\n",
       "      <td>1</td>\n",
       "    </tr>\n",
       "    <tr>\n",
       "      <th>242</th>\n",
       "      <td>24</td>\n",
       "      <td>64</td>\n",
       "      <td>15</td>\n",
       "      <td>0.2</td>\n",
       "      <td>67.3</td>\n",
       "      <td>3.8</td>\n",
       "      <td>16.5</td>\n",
       "      <td>1.2</td>\n",
       "      <td>4.8</td>\n",
       "      <td>0.5</td>\n",
       "      <td>0</td>\n",
       "      <td>1</td>\n",
       "    </tr>\n",
       "  </tbody>\n",
       "</table>\n",
       "<p>243 rows × 12 columns</p>\n",
       "</div>"
      ],
      "text/plain": [
       "     Temperature  RH  Ws  Rain  FFMC   DMC    DC  ISI   BUI  FWI  Classes  \\\n",
       "0             29  57  18   0.0  65.7   3.4   7.6  1.3   3.4  0.5        0   \n",
       "1             29  61  13   1.3  64.4   4.1   7.6  1.0   3.9  0.4        0   \n",
       "2             26  82  22  13.1  47.1   2.5   7.1  0.3   2.7  0.1        0   \n",
       "3             25  89  13   2.5  28.6   1.3   6.9  0.0   1.7  0.0        0   \n",
       "4             27  77  16   0.0  64.8   3.0  14.2  1.2   3.9  0.5        0   \n",
       "..           ...  ..  ..   ...   ...   ...   ...  ...   ...  ...      ...   \n",
       "238           30  65  14   0.0  85.4  16.0  44.5  4.5  16.9  6.5        1   \n",
       "239           28  87  15   4.4  41.1   6.5   8.0  0.1   6.2  0.0        0   \n",
       "240           27  87  29   0.5  45.9   3.5   7.9  0.4   3.4  0.2        0   \n",
       "241           24  54  18   0.1  79.7   4.3  15.2  1.7   5.1  0.7        0   \n",
       "242           24  64  15   0.2  67.3   3.8  16.5  1.2   4.8  0.5        0   \n",
       "\n",
       "     region  \n",
       "0         0  \n",
       "1         0  \n",
       "2         0  \n",
       "3         0  \n",
       "4         0  \n",
       "..      ...  \n",
       "238       1  \n",
       "239       1  \n",
       "240       1  \n",
       "241       1  \n",
       "242       1  \n",
       "\n",
       "[243 rows x 12 columns]"
      ]
     },
     "execution_count": 8,
     "metadata": {},
     "output_type": "execute_result"
    }
   ],
   "source": [
    "df"
   ]
  },
  {
   "cell_type": "code",
   "execution_count": 9,
   "id": "ed55c2a4-150d-4e94-becf-fc9158d608f3",
   "metadata": {},
   "outputs": [
    {
     "data": {
      "text/plain": [
       "1    137\n",
       "0    106\n",
       "Name: Classes, dtype: int64"
      ]
     },
     "execution_count": 9,
     "metadata": {},
     "output_type": "execute_result"
    }
   ],
   "source": [
    "df['Classes'].value_counts()"
   ]
  },
  {
   "cell_type": "code",
   "execution_count": 10,
   "id": "81b2b634-f512-404e-9214-c28d70906c2c",
   "metadata": {},
   "outputs": [],
   "source": [
    "x=df.drop('FWI',axis=1)\n",
    "y=df['FWI']"
   ]
  },
  {
   "cell_type": "code",
   "execution_count": 11,
   "id": "0d78b0ca-cc2c-41a2-8744-0b0bc72836d1",
   "metadata": {},
   "outputs": [
    {
     "data": {
      "text/html": [
       "<div>\n",
       "<style scoped>\n",
       "    .dataframe tbody tr th:only-of-type {\n",
       "        vertical-align: middle;\n",
       "    }\n",
       "\n",
       "    .dataframe tbody tr th {\n",
       "        vertical-align: top;\n",
       "    }\n",
       "\n",
       "    .dataframe thead th {\n",
       "        text-align: right;\n",
       "    }\n",
       "</style>\n",
       "<table border=\"1\" class=\"dataframe\">\n",
       "  <thead>\n",
       "    <tr style=\"text-align: right;\">\n",
       "      <th></th>\n",
       "      <th>Temperature</th>\n",
       "      <th>RH</th>\n",
       "      <th>Ws</th>\n",
       "      <th>Rain</th>\n",
       "      <th>FFMC</th>\n",
       "      <th>DMC</th>\n",
       "      <th>DC</th>\n",
       "      <th>ISI</th>\n",
       "      <th>BUI</th>\n",
       "      <th>Classes</th>\n",
       "      <th>region</th>\n",
       "    </tr>\n",
       "  </thead>\n",
       "  <tbody>\n",
       "    <tr>\n",
       "      <th>0</th>\n",
       "      <td>29</td>\n",
       "      <td>57</td>\n",
       "      <td>18</td>\n",
       "      <td>0.0</td>\n",
       "      <td>65.7</td>\n",
       "      <td>3.4</td>\n",
       "      <td>7.6</td>\n",
       "      <td>1.3</td>\n",
       "      <td>3.4</td>\n",
       "      <td>0</td>\n",
       "      <td>0</td>\n",
       "    </tr>\n",
       "    <tr>\n",
       "      <th>1</th>\n",
       "      <td>29</td>\n",
       "      <td>61</td>\n",
       "      <td>13</td>\n",
       "      <td>1.3</td>\n",
       "      <td>64.4</td>\n",
       "      <td>4.1</td>\n",
       "      <td>7.6</td>\n",
       "      <td>1.0</td>\n",
       "      <td>3.9</td>\n",
       "      <td>0</td>\n",
       "      <td>0</td>\n",
       "    </tr>\n",
       "    <tr>\n",
       "      <th>2</th>\n",
       "      <td>26</td>\n",
       "      <td>82</td>\n",
       "      <td>22</td>\n",
       "      <td>13.1</td>\n",
       "      <td>47.1</td>\n",
       "      <td>2.5</td>\n",
       "      <td>7.1</td>\n",
       "      <td>0.3</td>\n",
       "      <td>2.7</td>\n",
       "      <td>0</td>\n",
       "      <td>0</td>\n",
       "    </tr>\n",
       "    <tr>\n",
       "      <th>3</th>\n",
       "      <td>25</td>\n",
       "      <td>89</td>\n",
       "      <td>13</td>\n",
       "      <td>2.5</td>\n",
       "      <td>28.6</td>\n",
       "      <td>1.3</td>\n",
       "      <td>6.9</td>\n",
       "      <td>0.0</td>\n",
       "      <td>1.7</td>\n",
       "      <td>0</td>\n",
       "      <td>0</td>\n",
       "    </tr>\n",
       "    <tr>\n",
       "      <th>4</th>\n",
       "      <td>27</td>\n",
       "      <td>77</td>\n",
       "      <td>16</td>\n",
       "      <td>0.0</td>\n",
       "      <td>64.8</td>\n",
       "      <td>3.0</td>\n",
       "      <td>14.2</td>\n",
       "      <td>1.2</td>\n",
       "      <td>3.9</td>\n",
       "      <td>0</td>\n",
       "      <td>0</td>\n",
       "    </tr>\n",
       "  </tbody>\n",
       "</table>\n",
       "</div>"
      ],
      "text/plain": [
       "   Temperature  RH  Ws  Rain  FFMC  DMC    DC  ISI  BUI  Classes  region\n",
       "0           29  57  18   0.0  65.7  3.4   7.6  1.3  3.4        0       0\n",
       "1           29  61  13   1.3  64.4  4.1   7.6  1.0  3.9        0       0\n",
       "2           26  82  22  13.1  47.1  2.5   7.1  0.3  2.7        0       0\n",
       "3           25  89  13   2.5  28.6  1.3   6.9  0.0  1.7        0       0\n",
       "4           27  77  16   0.0  64.8  3.0  14.2  1.2  3.9        0       0"
      ]
     },
     "execution_count": 11,
     "metadata": {},
     "output_type": "execute_result"
    }
   ],
   "source": [
    "x.head()"
   ]
  },
  {
   "cell_type": "code",
   "execution_count": 12,
   "id": "a5718f13-e3a9-495c-8198-f690ebc73116",
   "metadata": {},
   "outputs": [
    {
     "data": {
      "text/plain": [
       "0    0.5\n",
       "1    0.4\n",
       "2    0.1\n",
       "3    0.0\n",
       "4    0.5\n",
       "Name: FWI, dtype: float64"
      ]
     },
     "execution_count": 12,
     "metadata": {},
     "output_type": "execute_result"
    }
   ],
   "source": [
    "y.head()"
   ]
  },
  {
   "cell_type": "code",
   "execution_count": 13,
   "id": "02805da5-f18d-40a1-b023-e7fc32f0a14d",
   "metadata": {},
   "outputs": [],
   "source": [
    "from sklearn.model_selection import train_test_split"
   ]
  },
  {
   "cell_type": "code",
   "execution_count": 14,
   "id": "77dff16b-5cd8-40a3-ab47-bdcf4234148b",
   "metadata": {},
   "outputs": [],
   "source": [
    "x_train,x_test,y_train,y_test=train_test_split(x,y,test_size=0.2,random_state=12)"
   ]
  },
  {
   "cell_type": "code",
   "execution_count": 15,
   "id": "afb7a8ae-cca1-45e9-b054-5c089cb0750f",
   "metadata": {},
   "outputs": [
    {
     "data": {
      "text/plain": [
       "((194, 11), (49, 11), (194,), (49,))"
      ]
     },
     "execution_count": 15,
     "metadata": {},
     "output_type": "execute_result"
    }
   ],
   "source": [
    "x_train.shape,x_test.shape,y_train.shape,y_test.shape"
   ]
  },
  {
   "cell_type": "code",
   "execution_count": 16,
   "id": "99298f47-1111-4c25-bed0-d7785fc314ff",
   "metadata": {},
   "outputs": [
    {
     "data": {
      "text/html": [
       "<div>\n",
       "<style scoped>\n",
       "    .dataframe tbody tr th:only-of-type {\n",
       "        vertical-align: middle;\n",
       "    }\n",
       "\n",
       "    .dataframe tbody tr th {\n",
       "        vertical-align: top;\n",
       "    }\n",
       "\n",
       "    .dataframe thead th {\n",
       "        text-align: right;\n",
       "    }\n",
       "</style>\n",
       "<table border=\"1\" class=\"dataframe\">\n",
       "  <thead>\n",
       "    <tr style=\"text-align: right;\">\n",
       "      <th></th>\n",
       "      <th>Temperature</th>\n",
       "      <th>RH</th>\n",
       "      <th>Ws</th>\n",
       "      <th>Rain</th>\n",
       "      <th>FFMC</th>\n",
       "      <th>DMC</th>\n",
       "      <th>DC</th>\n",
       "      <th>ISI</th>\n",
       "      <th>BUI</th>\n",
       "      <th>Classes</th>\n",
       "      <th>region</th>\n",
       "    </tr>\n",
       "  </thead>\n",
       "  <tbody>\n",
       "    <tr>\n",
       "      <th>206</th>\n",
       "      <td>34</td>\n",
       "      <td>40</td>\n",
       "      <td>18</td>\n",
       "      <td>0.0</td>\n",
       "      <td>92.1</td>\n",
       "      <td>56.3</td>\n",
       "      <td>157.5</td>\n",
       "      <td>14.3</td>\n",
       "      <td>59.5</td>\n",
       "      <td>1</td>\n",
       "      <td>1</td>\n",
       "    </tr>\n",
       "    <tr>\n",
       "      <th>154</th>\n",
       "      <td>34</td>\n",
       "      <td>56</td>\n",
       "      <td>17</td>\n",
       "      <td>0.1</td>\n",
       "      <td>84.7</td>\n",
       "      <td>9.7</td>\n",
       "      <td>27.3</td>\n",
       "      <td>4.7</td>\n",
       "      <td>10.3</td>\n",
       "      <td>1</td>\n",
       "      <td>1</td>\n",
       "    </tr>\n",
       "    <tr>\n",
       "      <th>124</th>\n",
       "      <td>29</td>\n",
       "      <td>80</td>\n",
       "      <td>14</td>\n",
       "      <td>2.0</td>\n",
       "      <td>48.7</td>\n",
       "      <td>2.2</td>\n",
       "      <td>7.6</td>\n",
       "      <td>0.3</td>\n",
       "      <td>2.6</td>\n",
       "      <td>0</td>\n",
       "      <td>1</td>\n",
       "    </tr>\n",
       "    <tr>\n",
       "      <th>29</th>\n",
       "      <td>33</td>\n",
       "      <td>50</td>\n",
       "      <td>14</td>\n",
       "      <td>0.0</td>\n",
       "      <td>88.7</td>\n",
       "      <td>22.9</td>\n",
       "      <td>92.8</td>\n",
       "      <td>7.2</td>\n",
       "      <td>28.3</td>\n",
       "      <td>1</td>\n",
       "      <td>0</td>\n",
       "    </tr>\n",
       "    <tr>\n",
       "      <th>140</th>\n",
       "      <td>32</td>\n",
       "      <td>67</td>\n",
       "      <td>14</td>\n",
       "      <td>4.5</td>\n",
       "      <td>64.6</td>\n",
       "      <td>4.4</td>\n",
       "      <td>8.2</td>\n",
       "      <td>1.0</td>\n",
       "      <td>4.2</td>\n",
       "      <td>0</td>\n",
       "      <td>1</td>\n",
       "    </tr>\n",
       "    <tr>\n",
       "      <th>...</th>\n",
       "      <td>...</td>\n",
       "      <td>...</td>\n",
       "      <td>...</td>\n",
       "      <td>...</td>\n",
       "      <td>...</td>\n",
       "      <td>...</td>\n",
       "      <td>...</td>\n",
       "      <td>...</td>\n",
       "      <td>...</td>\n",
       "      <td>...</td>\n",
       "      <td>...</td>\n",
       "    </tr>\n",
       "    <tr>\n",
       "      <th>3</th>\n",
       "      <td>25</td>\n",
       "      <td>89</td>\n",
       "      <td>13</td>\n",
       "      <td>2.5</td>\n",
       "      <td>28.6</td>\n",
       "      <td>1.3</td>\n",
       "      <td>6.9</td>\n",
       "      <td>0.0</td>\n",
       "      <td>1.7</td>\n",
       "      <td>0</td>\n",
       "      <td>0</td>\n",
       "    </tr>\n",
       "    <tr>\n",
       "      <th>130</th>\n",
       "      <td>27</td>\n",
       "      <td>59</td>\n",
       "      <td>18</td>\n",
       "      <td>0.1</td>\n",
       "      <td>78.1</td>\n",
       "      <td>8.5</td>\n",
       "      <td>14.7</td>\n",
       "      <td>2.4</td>\n",
       "      <td>8.3</td>\n",
       "      <td>0</td>\n",
       "      <td>1</td>\n",
       "    </tr>\n",
       "    <tr>\n",
       "      <th>134</th>\n",
       "      <td>30</td>\n",
       "      <td>52</td>\n",
       "      <td>15</td>\n",
       "      <td>2.0</td>\n",
       "      <td>72.3</td>\n",
       "      <td>11.4</td>\n",
       "      <td>7.8</td>\n",
       "      <td>1.4</td>\n",
       "      <td>10.9</td>\n",
       "      <td>0</td>\n",
       "      <td>1</td>\n",
       "    </tr>\n",
       "    <tr>\n",
       "      <th>155</th>\n",
       "      <td>34</td>\n",
       "      <td>58</td>\n",
       "      <td>18</td>\n",
       "      <td>0.0</td>\n",
       "      <td>88.0</td>\n",
       "      <td>13.6</td>\n",
       "      <td>36.8</td>\n",
       "      <td>8.0</td>\n",
       "      <td>14.1</td>\n",
       "      <td>1</td>\n",
       "      <td>1</td>\n",
       "    </tr>\n",
       "    <tr>\n",
       "      <th>75</th>\n",
       "      <td>36</td>\n",
       "      <td>55</td>\n",
       "      <td>13</td>\n",
       "      <td>0.3</td>\n",
       "      <td>82.4</td>\n",
       "      <td>15.6</td>\n",
       "      <td>92.5</td>\n",
       "      <td>3.7</td>\n",
       "      <td>22.0</td>\n",
       "      <td>1</td>\n",
       "      <td>0</td>\n",
       "    </tr>\n",
       "  </tbody>\n",
       "</table>\n",
       "<p>194 rows × 11 columns</p>\n",
       "</div>"
      ],
      "text/plain": [
       "     Temperature  RH  Ws  Rain  FFMC   DMC     DC   ISI   BUI  Classes  region\n",
       "206           34  40  18   0.0  92.1  56.3  157.5  14.3  59.5        1       1\n",
       "154           34  56  17   0.1  84.7   9.7   27.3   4.7  10.3        1       1\n",
       "124           29  80  14   2.0  48.7   2.2    7.6   0.3   2.6        0       1\n",
       "29            33  50  14   0.0  88.7  22.9   92.8   7.2  28.3        1       0\n",
       "140           32  67  14   4.5  64.6   4.4    8.2   1.0   4.2        0       1\n",
       "..           ...  ..  ..   ...   ...   ...    ...   ...   ...      ...     ...\n",
       "3             25  89  13   2.5  28.6   1.3    6.9   0.0   1.7        0       0\n",
       "130           27  59  18   0.1  78.1   8.5   14.7   2.4   8.3        0       1\n",
       "134           30  52  15   2.0  72.3  11.4    7.8   1.4  10.9        0       1\n",
       "155           34  58  18   0.0  88.0  13.6   36.8   8.0  14.1        1       1\n",
       "75            36  55  13   0.3  82.4  15.6   92.5   3.7  22.0        1       0\n",
       "\n",
       "[194 rows x 11 columns]"
      ]
     },
     "execution_count": 16,
     "metadata": {},
     "output_type": "execute_result"
    }
   ],
   "source": [
    "x_train"
   ]
  },
  {
   "cell_type": "code",
   "execution_count": 17,
   "id": "fd0c5076-a7e6-48a6-bf87-897da341ce89",
   "metadata": {},
   "outputs": [
    {
     "data": {
      "text/html": [
       "<div>\n",
       "<style scoped>\n",
       "    .dataframe tbody tr th:only-of-type {\n",
       "        vertical-align: middle;\n",
       "    }\n",
       "\n",
       "    .dataframe tbody tr th {\n",
       "        vertical-align: top;\n",
       "    }\n",
       "\n",
       "    .dataframe thead th {\n",
       "        text-align: right;\n",
       "    }\n",
       "</style>\n",
       "<table border=\"1\" class=\"dataframe\">\n",
       "  <thead>\n",
       "    <tr style=\"text-align: right;\">\n",
       "      <th></th>\n",
       "      <th>Temperature</th>\n",
       "      <th>RH</th>\n",
       "      <th>Ws</th>\n",
       "      <th>Rain</th>\n",
       "      <th>FFMC</th>\n",
       "      <th>DMC</th>\n",
       "      <th>DC</th>\n",
       "      <th>ISI</th>\n",
       "      <th>BUI</th>\n",
       "      <th>Classes</th>\n",
       "      <th>region</th>\n",
       "    </tr>\n",
       "  </thead>\n",
       "  <tbody>\n",
       "    <tr>\n",
       "      <th>Temperature</th>\n",
       "      <td>1.000000</td>\n",
       "      <td>-0.656957</td>\n",
       "      <td>-0.257403</td>\n",
       "      <td>-0.335232</td>\n",
       "      <td>0.685635</td>\n",
       "      <td>0.493681</td>\n",
       "      <td>0.409331</td>\n",
       "      <td>0.607424</td>\n",
       "      <td>0.476957</td>\n",
       "      <td>0.531608</td>\n",
       "      <td>0.246444</td>\n",
       "    </tr>\n",
       "    <tr>\n",
       "      <th>RH</th>\n",
       "      <td>-0.656957</td>\n",
       "      <td>1.000000</td>\n",
       "      <td>0.189727</td>\n",
       "      <td>0.214901</td>\n",
       "      <td>-0.648051</td>\n",
       "      <td>-0.418886</td>\n",
       "      <td>-0.245043</td>\n",
       "      <td>-0.686134</td>\n",
       "      <td>-0.368322</td>\n",
       "      <td>-0.446870</td>\n",
       "      <td>-0.370195</td>\n",
       "    </tr>\n",
       "    <tr>\n",
       "      <th>Ws</th>\n",
       "      <td>-0.257403</td>\n",
       "      <td>0.189727</td>\n",
       "      <td>1.000000</td>\n",
       "      <td>0.184737</td>\n",
       "      <td>-0.141475</td>\n",
       "      <td>0.016477</td>\n",
       "      <td>0.068511</td>\n",
       "      <td>0.054516</td>\n",
       "      <td>0.038304</td>\n",
       "      <td>-0.009962</td>\n",
       "      <td>-0.118533</td>\n",
       "    </tr>\n",
       "    <tr>\n",
       "      <th>Rain</th>\n",
       "      <td>-0.335232</td>\n",
       "      <td>0.214901</td>\n",
       "      <td>0.184737</td>\n",
       "      <td>1.000000</td>\n",
       "      <td>-0.537996</td>\n",
       "      <td>-0.289123</td>\n",
       "      <td>-0.302638</td>\n",
       "      <td>-0.357214</td>\n",
       "      <td>-0.301873</td>\n",
       "      <td>-0.375158</td>\n",
       "      <td>-0.006417</td>\n",
       "    </tr>\n",
       "    <tr>\n",
       "      <th>FFMC</th>\n",
       "      <td>0.685635</td>\n",
       "      <td>-0.648051</td>\n",
       "      <td>-0.141475</td>\n",
       "      <td>-0.537996</td>\n",
       "      <td>1.000000</td>\n",
       "      <td>0.599867</td>\n",
       "      <td>0.511770</td>\n",
       "      <td>0.752568</td>\n",
       "      <td>0.591708</td>\n",
       "      <td>0.762805</td>\n",
       "      <td>0.169071</td>\n",
       "    </tr>\n",
       "    <tr>\n",
       "      <th>DMC</th>\n",
       "      <td>0.493681</td>\n",
       "      <td>-0.418886</td>\n",
       "      <td>0.016477</td>\n",
       "      <td>-0.289123</td>\n",
       "      <td>0.599867</td>\n",
       "      <td>1.000000</td>\n",
       "      <td>0.871976</td>\n",
       "      <td>0.701233</td>\n",
       "      <td>0.981911</td>\n",
       "      <td>0.576028</td>\n",
       "      <td>0.180193</td>\n",
       "    </tr>\n",
       "    <tr>\n",
       "      <th>DC</th>\n",
       "      <td>0.409331</td>\n",
       "      <td>-0.245043</td>\n",
       "      <td>0.068511</td>\n",
       "      <td>-0.302638</td>\n",
       "      <td>0.511770</td>\n",
       "      <td>0.871976</td>\n",
       "      <td>1.000000</td>\n",
       "      <td>0.530842</td>\n",
       "      <td>0.939080</td>\n",
       "      <td>0.508731</td>\n",
       "      <td>-0.085873</td>\n",
       "    </tr>\n",
       "    <tr>\n",
       "      <th>ISI</th>\n",
       "      <td>0.607424</td>\n",
       "      <td>-0.686134</td>\n",
       "      <td>0.054516</td>\n",
       "      <td>-0.357214</td>\n",
       "      <td>0.752568</td>\n",
       "      <td>0.701233</td>\n",
       "      <td>0.530842</td>\n",
       "      <td>1.000000</td>\n",
       "      <td>0.669325</td>\n",
       "      <td>0.755753</td>\n",
       "      <td>0.240565</td>\n",
       "    </tr>\n",
       "    <tr>\n",
       "      <th>BUI</th>\n",
       "      <td>0.476957</td>\n",
       "      <td>-0.368322</td>\n",
       "      <td>0.038304</td>\n",
       "      <td>-0.301873</td>\n",
       "      <td>0.591708</td>\n",
       "      <td>0.981911</td>\n",
       "      <td>0.939080</td>\n",
       "      <td>0.669325</td>\n",
       "      <td>1.000000</td>\n",
       "      <td>0.580451</td>\n",
       "      <td>0.078415</td>\n",
       "    </tr>\n",
       "    <tr>\n",
       "      <th>Classes</th>\n",
       "      <td>0.531608</td>\n",
       "      <td>-0.446870</td>\n",
       "      <td>-0.009962</td>\n",
       "      <td>-0.375158</td>\n",
       "      <td>0.762805</td>\n",
       "      <td>0.576028</td>\n",
       "      <td>0.508731</td>\n",
       "      <td>0.755753</td>\n",
       "      <td>0.580451</td>\n",
       "      <td>1.000000</td>\n",
       "      <td>0.126895</td>\n",
       "    </tr>\n",
       "    <tr>\n",
       "      <th>region</th>\n",
       "      <td>0.246444</td>\n",
       "      <td>-0.370195</td>\n",
       "      <td>-0.118533</td>\n",
       "      <td>-0.006417</td>\n",
       "      <td>0.169071</td>\n",
       "      <td>0.180193</td>\n",
       "      <td>-0.085873</td>\n",
       "      <td>0.240565</td>\n",
       "      <td>0.078415</td>\n",
       "      <td>0.126895</td>\n",
       "      <td>1.000000</td>\n",
       "    </tr>\n",
       "  </tbody>\n",
       "</table>\n",
       "</div>"
      ],
      "text/plain": [
       "             Temperature        RH        Ws      Rain      FFMC       DMC  \\\n",
       "Temperature     1.000000 -0.656957 -0.257403 -0.335232  0.685635  0.493681   \n",
       "RH             -0.656957  1.000000  0.189727  0.214901 -0.648051 -0.418886   \n",
       "Ws             -0.257403  0.189727  1.000000  0.184737 -0.141475  0.016477   \n",
       "Rain           -0.335232  0.214901  0.184737  1.000000 -0.537996 -0.289123   \n",
       "FFMC            0.685635 -0.648051 -0.141475 -0.537996  1.000000  0.599867   \n",
       "DMC             0.493681 -0.418886  0.016477 -0.289123  0.599867  1.000000   \n",
       "DC              0.409331 -0.245043  0.068511 -0.302638  0.511770  0.871976   \n",
       "ISI             0.607424 -0.686134  0.054516 -0.357214  0.752568  0.701233   \n",
       "BUI             0.476957 -0.368322  0.038304 -0.301873  0.591708  0.981911   \n",
       "Classes         0.531608 -0.446870 -0.009962 -0.375158  0.762805  0.576028   \n",
       "region          0.246444 -0.370195 -0.118533 -0.006417  0.169071  0.180193   \n",
       "\n",
       "                   DC       ISI       BUI   Classes    region  \n",
       "Temperature  0.409331  0.607424  0.476957  0.531608  0.246444  \n",
       "RH          -0.245043 -0.686134 -0.368322 -0.446870 -0.370195  \n",
       "Ws           0.068511  0.054516  0.038304 -0.009962 -0.118533  \n",
       "Rain        -0.302638 -0.357214 -0.301873 -0.375158 -0.006417  \n",
       "FFMC         0.511770  0.752568  0.591708  0.762805  0.169071  \n",
       "DMC          0.871976  0.701233  0.981911  0.576028  0.180193  \n",
       "DC           1.000000  0.530842  0.939080  0.508731 -0.085873  \n",
       "ISI          0.530842  1.000000  0.669325  0.755753  0.240565  \n",
       "BUI          0.939080  0.669325  1.000000  0.580451  0.078415  \n",
       "Classes      0.508731  0.755753  0.580451  1.000000  0.126895  \n",
       "region      -0.085873  0.240565  0.078415  0.126895  1.000000  "
      ]
     },
     "execution_count": 17,
     "metadata": {},
     "output_type": "execute_result"
    }
   ],
   "source": [
    "corr_matrix=x_train.corr()\n",
    "corr_matrix"
   ]
  },
  {
   "cell_type": "code",
   "execution_count": 18,
   "id": "fb274270-cbc5-46a4-a9a9-76181cec062f",
   "metadata": {},
   "outputs": [
    {
     "data": {
      "text/plain": [
       "<AxesSubplot: >"
      ]
     },
     "execution_count": 18,
     "metadata": {},
     "output_type": "execute_result"
    },
    {
     "data": {
      "image/png": "[encoded data removed]",
      "text/plain": [
       "<Figure size 1000x800 with 2 Axes>"
      ]
     },
     "metadata": {},
     "output_type": "display_data"
    }
   ],
   "source": [
    "plt.figure(figsize=(10,8))\n",
    "sns.heatmap(corr_matrix,annot=True)"
   ]
  },
  {
   "cell_type": "markdown",
   "id": "92a3bcb1-8e3c-42b9-b1bf-fb39c2157bd2",
   "metadata": {},
   "source": [
    "## delete collinear features"
   ]
  },
  {
   "cell_type": "code",
   "execution_count": 19,
   "id": "aee425e1-65cf-405e-8466-926a403dfaff",
   "metadata": {},
   "outputs": [],
   "source": [
    "def del_col(x_train,thtreshold):\n",
    "    features=set()\n",
    "    cor_mat=x_train.corr()\n",
    "    for i in range(len(cor_mat.columns)):\n",
    "        for j in range(i):\n",
    "#            print(j,i)\n",
    "            if abs(cor_mat.iloc[i,j])>thtreshold:\n",
    "                col_name=cor_mat.columns[j]\n",
    "                features.add(col_name)\n",
    "    return features"
   ]
  },
  {
   "cell_type": "code",
   "execution_count": 20,
   "id": "41c772a0-a395-4b84-ae54-ebe6bdfa008c",
   "metadata": {},
   "outputs": [
    {
     "data": {
      "text/plain": [
       "{'DC', 'DMC'}"
      ]
     },
     "execution_count": 20,
     "metadata": {},
     "output_type": "execute_result"
    }
   ],
   "source": [
    "del_col(x_train,0.9)"
   ]
  },
  {
   "cell_type": "code",
   "execution_count": 21,
   "id": "9e6f6252-2821-4d69-b37d-d4bce7d171e6",
   "metadata": {},
   "outputs": [
    {
     "data": {
      "text/html": [
       "<div>\n",
       "<style scoped>\n",
       "    .dataframe tbody tr th:only-of-type {\n",
       "        vertical-align: middle;\n",
       "    }\n",
       "\n",
       "    .dataframe tbody tr th {\n",
       "        vertical-align: top;\n",
       "    }\n",
       "\n",
       "    .dataframe thead th {\n",
       "        text-align: right;\n",
       "    }\n",
       "</style>\n",
       "<table border=\"1\" class=\"dataframe\">\n",
       "  <thead>\n",
       "    <tr style=\"text-align: right;\">\n",
       "      <th></th>\n",
       "      <th>Temperature</th>\n",
       "      <th>RH</th>\n",
       "      <th>Ws</th>\n",
       "      <th>Rain</th>\n",
       "      <th>FFMC</th>\n",
       "      <th>DMC</th>\n",
       "      <th>DC</th>\n",
       "      <th>ISI</th>\n",
       "      <th>BUI</th>\n",
       "      <th>Classes</th>\n",
       "      <th>region</th>\n",
       "    </tr>\n",
       "  </thead>\n",
       "  <tbody>\n",
       "    <tr>\n",
       "      <th>206</th>\n",
       "      <td>34</td>\n",
       "      <td>40</td>\n",
       "      <td>18</td>\n",
       "      <td>0.0</td>\n",
       "      <td>92.1</td>\n",
       "      <td>56.3</td>\n",
       "      <td>157.5</td>\n",
       "      <td>14.3</td>\n",
       "      <td>59.5</td>\n",
       "      <td>1</td>\n",
       "      <td>1</td>\n",
       "    </tr>\n",
       "    <tr>\n",
       "      <th>154</th>\n",
       "      <td>34</td>\n",
       "      <td>56</td>\n",
       "      <td>17</td>\n",
       "      <td>0.1</td>\n",
       "      <td>84.7</td>\n",
       "      <td>9.7</td>\n",
       "      <td>27.3</td>\n",
       "      <td>4.7</td>\n",
       "      <td>10.3</td>\n",
       "      <td>1</td>\n",
       "      <td>1</td>\n",
       "    </tr>\n",
       "    <tr>\n",
       "      <th>124</th>\n",
       "      <td>29</td>\n",
       "      <td>80</td>\n",
       "      <td>14</td>\n",
       "      <td>2.0</td>\n",
       "      <td>48.7</td>\n",
       "      <td>2.2</td>\n",
       "      <td>7.6</td>\n",
       "      <td>0.3</td>\n",
       "      <td>2.6</td>\n",
       "      <td>0</td>\n",
       "      <td>1</td>\n",
       "    </tr>\n",
       "    <tr>\n",
       "      <th>29</th>\n",
       "      <td>33</td>\n",
       "      <td>50</td>\n",
       "      <td>14</td>\n",
       "      <td>0.0</td>\n",
       "      <td>88.7</td>\n",
       "      <td>22.9</td>\n",
       "      <td>92.8</td>\n",
       "      <td>7.2</td>\n",
       "      <td>28.3</td>\n",
       "      <td>1</td>\n",
       "      <td>0</td>\n",
       "    </tr>\n",
       "    <tr>\n",
       "      <th>140</th>\n",
       "      <td>32</td>\n",
       "      <td>67</td>\n",
       "      <td>14</td>\n",
       "      <td>4.5</td>\n",
       "      <td>64.6</td>\n",
       "      <td>4.4</td>\n",
       "      <td>8.2</td>\n",
       "      <td>1.0</td>\n",
       "      <td>4.2</td>\n",
       "      <td>0</td>\n",
       "      <td>1</td>\n",
       "    </tr>\n",
       "    <tr>\n",
       "      <th>...</th>\n",
       "      <td>...</td>\n",
       "      <td>...</td>\n",
       "      <td>...</td>\n",
       "      <td>...</td>\n",
       "      <td>...</td>\n",
       "      <td>...</td>\n",
       "      <td>...</td>\n",
       "      <td>...</td>\n",
       "      <td>...</td>\n",
       "      <td>...</td>\n",
       "      <td>...</td>\n",
       "    </tr>\n",
       "    <tr>\n",
       "      <th>3</th>\n",
       "      <td>25</td>\n",
       "      <td>89</td>\n",
       "      <td>13</td>\n",
       "      <td>2.5</td>\n",
       "      <td>28.6</td>\n",
       "      <td>1.3</td>\n",
       "      <td>6.9</td>\n",
       "      <td>0.0</td>\n",
       "      <td>1.7</td>\n",
       "      <td>0</td>\n",
       "      <td>0</td>\n",
       "    </tr>\n",
       "    <tr>\n",
       "      <th>130</th>\n",
       "      <td>27</td>\n",
       "      <td>59</td>\n",
       "      <td>18</td>\n",
       "      <td>0.1</td>\n",
       "      <td>78.1</td>\n",
       "      <td>8.5</td>\n",
       "      <td>14.7</td>\n",
       "      <td>2.4</td>\n",
       "      <td>8.3</td>\n",
       "      <td>0</td>\n",
       "      <td>1</td>\n",
       "    </tr>\n",
       "    <tr>\n",
       "      <th>134</th>\n",
       "      <td>30</td>\n",
       "      <td>52</td>\n",
       "      <td>15</td>\n",
       "      <td>2.0</td>\n",
       "      <td>72.3</td>\n",
       "      <td>11.4</td>\n",
       "      <td>7.8</td>\n",
       "      <td>1.4</td>\n",
       "      <td>10.9</td>\n",
       "      <td>0</td>\n",
       "      <td>1</td>\n",
       "    </tr>\n",
       "    <tr>\n",
       "      <th>155</th>\n",
       "      <td>34</td>\n",
       "      <td>58</td>\n",
       "      <td>18</td>\n",
       "      <td>0.0</td>\n",
       "      <td>88.0</td>\n",
       "      <td>13.6</td>\n",
       "      <td>36.8</td>\n",
       "      <td>8.0</td>\n",
       "      <td>14.1</td>\n",
       "      <td>1</td>\n",
       "      <td>1</td>\n",
       "    </tr>\n",
       "    <tr>\n",
       "      <th>75</th>\n",
       "      <td>36</td>\n",
       "      <td>55</td>\n",
       "      <td>13</td>\n",
       "      <td>0.3</td>\n",
       "      <td>82.4</td>\n",
       "      <td>15.6</td>\n",
       "      <td>92.5</td>\n",
       "      <td>3.7</td>\n",
       "      <td>22.0</td>\n",
       "      <td>1</td>\n",
       "      <td>0</td>\n",
       "    </tr>\n",
       "  </tbody>\n",
       "</table>\n",
       "<p>194 rows × 11 columns</p>\n",
       "</div>"
      ],
      "text/plain": [
       "     Temperature  RH  Ws  Rain  FFMC   DMC     DC   ISI   BUI  Classes  region\n",
       "206           34  40  18   0.0  92.1  56.3  157.5  14.3  59.5        1       1\n",
       "154           34  56  17   0.1  84.7   9.7   27.3   4.7  10.3        1       1\n",
       "124           29  80  14   2.0  48.7   2.2    7.6   0.3   2.6        0       1\n",
       "29            33  50  14   0.0  88.7  22.9   92.8   7.2  28.3        1       0\n",
       "140           32  67  14   4.5  64.6   4.4    8.2   1.0   4.2        0       1\n",
       "..           ...  ..  ..   ...   ...   ...    ...   ...   ...      ...     ...\n",
       "3             25  89  13   2.5  28.6   1.3    6.9   0.0   1.7        0       0\n",
       "130           27  59  18   0.1  78.1   8.5   14.7   2.4   8.3        0       1\n",
       "134           30  52  15   2.0  72.3  11.4    7.8   1.4  10.9        0       1\n",
       "155           34  58  18   0.0  88.0  13.6   36.8   8.0  14.1        1       1\n",
       "75            36  55  13   0.3  82.4  15.6   92.5   3.7  22.0        1       0\n",
       "\n",
       "[194 rows x 11 columns]"
      ]
     },
     "execution_count": 21,
     "metadata": {},
     "output_type": "execute_result"
    }
   ],
   "source": [
    "x_train"
   ]
  },
  {
   "cell_type": "code",
   "execution_count": 22,
   "id": "e2ff4e7d-a730-4407-83ce-d14c81ed67d2",
   "metadata": {},
   "outputs": [],
   "source": [
    "x_train.drop(['DC', 'DMC'],axis=1,inplace=True)"
   ]
  },
  {
   "cell_type": "code",
   "execution_count": 23,
   "id": "fb958cb2-7c71-4ea4-969e-b501a67da6fa",
   "metadata": {},
   "outputs": [
    {
     "data": {
      "text/html": [
       "<div>\n",
       "<style scoped>\n",
       "    .dataframe tbody tr th:only-of-type {\n",
       "        vertical-align: middle;\n",
       "    }\n",
       "\n",
       "    .dataframe tbody tr th {\n",
       "        vertical-align: top;\n",
       "    }\n",
       "\n",
       "    .dataframe thead th {\n",
       "        text-align: right;\n",
       "    }\n",
       "</style>\n",
       "<table border=\"1\" class=\"dataframe\">\n",
       "  <thead>\n",
       "    <tr style=\"text-align: right;\">\n",
       "      <th></th>\n",
       "      <th>index</th>\n",
       "      <th>Temperature</th>\n",
       "      <th>RH</th>\n",
       "      <th>Ws</th>\n",
       "      <th>Rain</th>\n",
       "      <th>FFMC</th>\n",
       "      <th>ISI</th>\n",
       "      <th>BUI</th>\n",
       "      <th>Classes</th>\n",
       "      <th>region</th>\n",
       "    </tr>\n",
       "  </thead>\n",
       "  <tbody>\n",
       "    <tr>\n",
       "      <th>0</th>\n",
       "      <td>206</td>\n",
       "      <td>34</td>\n",
       "      <td>40</td>\n",
       "      <td>18</td>\n",
       "      <td>0.0</td>\n",
       "      <td>92.1</td>\n",
       "      <td>14.3</td>\n",
       "      <td>59.5</td>\n",
       "      <td>1</td>\n",
       "      <td>1</td>\n",
       "    </tr>\n",
       "    <tr>\n",
       "      <th>1</th>\n",
       "      <td>154</td>\n",
       "      <td>34</td>\n",
       "      <td>56</td>\n",
       "      <td>17</td>\n",
       "      <td>0.1</td>\n",
       "      <td>84.7</td>\n",
       "      <td>4.7</td>\n",
       "      <td>10.3</td>\n",
       "      <td>1</td>\n",
       "      <td>1</td>\n",
       "    </tr>\n",
       "    <tr>\n",
       "      <th>2</th>\n",
       "      <td>124</td>\n",
       "      <td>29</td>\n",
       "      <td>80</td>\n",
       "      <td>14</td>\n",
       "      <td>2.0</td>\n",
       "      <td>48.7</td>\n",
       "      <td>0.3</td>\n",
       "      <td>2.6</td>\n",
       "      <td>0</td>\n",
       "      <td>1</td>\n",
       "    </tr>\n",
       "    <tr>\n",
       "      <th>3</th>\n",
       "      <td>29</td>\n",
       "      <td>33</td>\n",
       "      <td>50</td>\n",
       "      <td>14</td>\n",
       "      <td>0.0</td>\n",
       "      <td>88.7</td>\n",
       "      <td>7.2</td>\n",
       "      <td>28.3</td>\n",
       "      <td>1</td>\n",
       "      <td>0</td>\n",
       "    </tr>\n",
       "    <tr>\n",
       "      <th>4</th>\n",
       "      <td>140</td>\n",
       "      <td>32</td>\n",
       "      <td>67</td>\n",
       "      <td>14</td>\n",
       "      <td>4.5</td>\n",
       "      <td>64.6</td>\n",
       "      <td>1.0</td>\n",
       "      <td>4.2</td>\n",
       "      <td>0</td>\n",
       "      <td>1</td>\n",
       "    </tr>\n",
       "    <tr>\n",
       "      <th>...</th>\n",
       "      <td>...</td>\n",
       "      <td>...</td>\n",
       "      <td>...</td>\n",
       "      <td>...</td>\n",
       "      <td>...</td>\n",
       "      <td>...</td>\n",
       "      <td>...</td>\n",
       "      <td>...</td>\n",
       "      <td>...</td>\n",
       "      <td>...</td>\n",
       "    </tr>\n",
       "    <tr>\n",
       "      <th>189</th>\n",
       "      <td>3</td>\n",
       "      <td>25</td>\n",
       "      <td>89</td>\n",
       "      <td>13</td>\n",
       "      <td>2.5</td>\n",
       "      <td>28.6</td>\n",
       "      <td>0.0</td>\n",
       "      <td>1.7</td>\n",
       "      <td>0</td>\n",
       "      <td>0</td>\n",
       "    </tr>\n",
       "    <tr>\n",
       "      <th>190</th>\n",
       "      <td>130</td>\n",
       "      <td>27</td>\n",
       "      <td>59</td>\n",
       "      <td>18</td>\n",
       "      <td>0.1</td>\n",
       "      <td>78.1</td>\n",
       "      <td>2.4</td>\n",
       "      <td>8.3</td>\n",
       "      <td>0</td>\n",
       "      <td>1</td>\n",
       "    </tr>\n",
       "    <tr>\n",
       "      <th>191</th>\n",
       "      <td>134</td>\n",
       "      <td>30</td>\n",
       "      <td>52</td>\n",
       "      <td>15</td>\n",
       "      <td>2.0</td>\n",
       "      <td>72.3</td>\n",
       "      <td>1.4</td>\n",
       "      <td>10.9</td>\n",
       "      <td>0</td>\n",
       "      <td>1</td>\n",
       "    </tr>\n",
       "    <tr>\n",
       "      <th>192</th>\n",
       "      <td>155</td>\n",
       "      <td>34</td>\n",
       "      <td>58</td>\n",
       "      <td>18</td>\n",
       "      <td>0.0</td>\n",
       "      <td>88.0</td>\n",
       "      <td>8.0</td>\n",
       "      <td>14.1</td>\n",
       "      <td>1</td>\n",
       "      <td>1</td>\n",
       "    </tr>\n",
       "    <tr>\n",
       "      <th>193</th>\n",
       "      <td>75</td>\n",
       "      <td>36</td>\n",
       "      <td>55</td>\n",
       "      <td>13</td>\n",
       "      <td>0.3</td>\n",
       "      <td>82.4</td>\n",
       "      <td>3.7</td>\n",
       "      <td>22.0</td>\n",
       "      <td>1</td>\n",
       "      <td>0</td>\n",
       "    </tr>\n",
       "  </tbody>\n",
       "</table>\n",
       "<p>194 rows × 10 columns</p>\n",
       "</div>"
      ],
      "text/plain": [
       "     index  Temperature  RH  Ws  Rain  FFMC   ISI   BUI  Classes  region\n",
       "0      206           34  40  18   0.0  92.1  14.3  59.5        1       1\n",
       "1      154           34  56  17   0.1  84.7   4.7  10.3        1       1\n",
       "2      124           29  80  14   2.0  48.7   0.3   2.6        0       1\n",
       "3       29           33  50  14   0.0  88.7   7.2  28.3        1       0\n",
       "4      140           32  67  14   4.5  64.6   1.0   4.2        0       1\n",
       "..     ...          ...  ..  ..   ...   ...   ...   ...      ...     ...\n",
       "189      3           25  89  13   2.5  28.6   0.0   1.7        0       0\n",
       "190    130           27  59  18   0.1  78.1   2.4   8.3        0       1\n",
       "191    134           30  52  15   2.0  72.3   1.4  10.9        0       1\n",
       "192    155           34  58  18   0.0  88.0   8.0  14.1        1       1\n",
       "193     75           36  55  13   0.3  82.4   3.7  22.0        1       0\n",
       "\n",
       "[194 rows x 10 columns]"
      ]
     },
     "execution_count": 23,
     "metadata": {},
     "output_type": "execute_result"
    }
   ],
   "source": [
    "x_train.reset_index()"
   ]
  },
  {
   "cell_type": "code",
   "execution_count": 24,
   "id": "00496c3a-47a2-4b39-b316-cd27d1a03533",
   "metadata": {},
   "outputs": [],
   "source": [
    "x_test.drop(['DC', 'DMC'],axis=1,inplace=True)"
   ]
  },
  {
   "cell_type": "code",
   "execution_count": 25,
   "id": "9abfe006-cf9c-4eb1-bce7-fefb28d36929",
   "metadata": {},
   "outputs": [
    {
     "data": {
      "text/html": [
       "<div>\n",
       "<style scoped>\n",
       "    .dataframe tbody tr th:only-of-type {\n",
       "        vertical-align: middle;\n",
       "    }\n",
       "\n",
       "    .dataframe tbody tr th {\n",
       "        vertical-align: top;\n",
       "    }\n",
       "\n",
       "    .dataframe thead th {\n",
       "        text-align: right;\n",
       "    }\n",
       "</style>\n",
       "<table border=\"1\" class=\"dataframe\">\n",
       "  <thead>\n",
       "    <tr style=\"text-align: right;\">\n",
       "      <th></th>\n",
       "      <th>index</th>\n",
       "      <th>Temperature</th>\n",
       "      <th>RH</th>\n",
       "      <th>Ws</th>\n",
       "      <th>Rain</th>\n",
       "      <th>FFMC</th>\n",
       "      <th>ISI</th>\n",
       "      <th>BUI</th>\n",
       "      <th>Classes</th>\n",
       "      <th>region</th>\n",
       "    </tr>\n",
       "  </thead>\n",
       "  <tbody>\n",
       "    <tr>\n",
       "      <th>0</th>\n",
       "      <td>151</td>\n",
       "      <td>34</td>\n",
       "      <td>42</td>\n",
       "      <td>15</td>\n",
       "      <td>1.7</td>\n",
       "      <td>79.7</td>\n",
       "      <td>2.2</td>\n",
       "      <td>11.5</td>\n",
       "      <td>0</td>\n",
       "      <td>1</td>\n",
       "    </tr>\n",
       "    <tr>\n",
       "      <th>1</th>\n",
       "      <td>31</td>\n",
       "      <td>27</td>\n",
       "      <td>75</td>\n",
       "      <td>19</td>\n",
       "      <td>1.2</td>\n",
       "      <td>55.7</td>\n",
       "      <td>0.8</td>\n",
       "      <td>2.8</td>\n",
       "      <td>0</td>\n",
       "      <td>0</td>\n",
       "    </tr>\n",
       "    <tr>\n",
       "      <th>2</th>\n",
       "      <td>48</td>\n",
       "      <td>35</td>\n",
       "      <td>59</td>\n",
       "      <td>17</td>\n",
       "      <td>0.0</td>\n",
       "      <td>88.1</td>\n",
       "      <td>7.7</td>\n",
       "      <td>18.2</td>\n",
       "      <td>1</td>\n",
       "      <td>0</td>\n",
       "    </tr>\n",
       "    <tr>\n",
       "      <th>3</th>\n",
       "      <td>61</td>\n",
       "      <td>36</td>\n",
       "      <td>45</td>\n",
       "      <td>14</td>\n",
       "      <td>0.0</td>\n",
       "      <td>78.8</td>\n",
       "      <td>2.0</td>\n",
       "      <td>4.7</td>\n",
       "      <td>0</td>\n",
       "      <td>0</td>\n",
       "    </tr>\n",
       "    <tr>\n",
       "      <th>4</th>\n",
       "      <td>238</td>\n",
       "      <td>30</td>\n",
       "      <td>65</td>\n",
       "      <td>14</td>\n",
       "      <td>0.0</td>\n",
       "      <td>85.4</td>\n",
       "      <td>4.5</td>\n",
       "      <td>16.9</td>\n",
       "      <td>1</td>\n",
       "      <td>1</td>\n",
       "    </tr>\n",
       "    <tr>\n",
       "      <th>5</th>\n",
       "      <td>230</td>\n",
       "      <td>36</td>\n",
       "      <td>33</td>\n",
       "      <td>13</td>\n",
       "      <td>0.1</td>\n",
       "      <td>90.6</td>\n",
       "      <td>9.0</td>\n",
       "      <td>28.2</td>\n",
       "      <td>1</td>\n",
       "      <td>1</td>\n",
       "    </tr>\n",
       "    <tr>\n",
       "      <th>6</th>\n",
       "      <td>101</td>\n",
       "      <td>33</td>\n",
       "      <td>73</td>\n",
       "      <td>12</td>\n",
       "      <td>1.8</td>\n",
       "      <td>59.9</td>\n",
       "      <td>0.7</td>\n",
       "      <td>2.7</td>\n",
       "      <td>0</td>\n",
       "      <td>0</td>\n",
       "    </tr>\n",
       "    <tr>\n",
       "      <th>7</th>\n",
       "      <td>147</td>\n",
       "      <td>36</td>\n",
       "      <td>62</td>\n",
       "      <td>16</td>\n",
       "      <td>0.0</td>\n",
       "      <td>87.8</td>\n",
       "      <td>7.0</td>\n",
       "      <td>16.4</td>\n",
       "      <td>1</td>\n",
       "      <td>1</td>\n",
       "    </tr>\n",
       "    <tr>\n",
       "      <th>8</th>\n",
       "      <td>194</td>\n",
       "      <td>35</td>\n",
       "      <td>34</td>\n",
       "      <td>16</td>\n",
       "      <td>0.2</td>\n",
       "      <td>88.3</td>\n",
       "      <td>7.5</td>\n",
       "      <td>17.5</td>\n",
       "      <td>1</td>\n",
       "      <td>1</td>\n",
       "    </tr>\n",
       "    <tr>\n",
       "      <th>9</th>\n",
       "      <td>106</td>\n",
       "      <td>24</td>\n",
       "      <td>82</td>\n",
       "      <td>15</td>\n",
       "      <td>0.4</td>\n",
       "      <td>44.9</td>\n",
       "      <td>0.2</td>\n",
       "      <td>1.4</td>\n",
       "      <td>0</td>\n",
       "      <td>0</td>\n",
       "    </tr>\n",
       "    <tr>\n",
       "      <th>10</th>\n",
       "      <td>182</td>\n",
       "      <td>38</td>\n",
       "      <td>52</td>\n",
       "      <td>14</td>\n",
       "      <td>0.0</td>\n",
       "      <td>78.3</td>\n",
       "      <td>2.0</td>\n",
       "      <td>4.4</td>\n",
       "      <td>0</td>\n",
       "      <td>1</td>\n",
       "    </tr>\n",
       "    <tr>\n",
       "      <th>11</th>\n",
       "      <td>11</td>\n",
       "      <td>26</td>\n",
       "      <td>81</td>\n",
       "      <td>19</td>\n",
       "      <td>0.0</td>\n",
       "      <td>84.0</td>\n",
       "      <td>4.8</td>\n",
       "      <td>17.7</td>\n",
       "      <td>1</td>\n",
       "      <td>0</td>\n",
       "    </tr>\n",
       "    <tr>\n",
       "      <th>12</th>\n",
       "      <td>241</td>\n",
       "      <td>24</td>\n",
       "      <td>54</td>\n",
       "      <td>18</td>\n",
       "      <td>0.1</td>\n",
       "      <td>79.7</td>\n",
       "      <td>1.7</td>\n",
       "      <td>5.1</td>\n",
       "      <td>0</td>\n",
       "      <td>1</td>\n",
       "    </tr>\n",
       "    <tr>\n",
       "      <th>13</th>\n",
       "      <td>229</td>\n",
       "      <td>34</td>\n",
       "      <td>44</td>\n",
       "      <td>12</td>\n",
       "      <td>0.0</td>\n",
       "      <td>92.5</td>\n",
       "      <td>11.2</td>\n",
       "      <td>26.2</td>\n",
       "      <td>1</td>\n",
       "      <td>1</td>\n",
       "    </tr>\n",
       "    <tr>\n",
       "      <th>14</th>\n",
       "      <td>98</td>\n",
       "      <td>31</td>\n",
       "      <td>71</td>\n",
       "      <td>17</td>\n",
       "      <td>0.3</td>\n",
       "      <td>69.6</td>\n",
       "      <td>1.5</td>\n",
       "      <td>5.1</td>\n",
       "      <td>0</td>\n",
       "      <td>0</td>\n",
       "    </tr>\n",
       "    <tr>\n",
       "      <th>15</th>\n",
       "      <td>63</td>\n",
       "      <td>35</td>\n",
       "      <td>63</td>\n",
       "      <td>14</td>\n",
       "      <td>0.3</td>\n",
       "      <td>76.6</td>\n",
       "      <td>1.7</td>\n",
       "      <td>5.5</td>\n",
       "      <td>0</td>\n",
       "      <td>0</td>\n",
       "    </tr>\n",
       "    <tr>\n",
       "      <th>16</th>\n",
       "      <td>94</td>\n",
       "      <td>25</td>\n",
       "      <td>78</td>\n",
       "      <td>15</td>\n",
       "      <td>3.8</td>\n",
       "      <td>42.6</td>\n",
       "      <td>0.1</td>\n",
       "      <td>1.7</td>\n",
       "      <td>0</td>\n",
       "      <td>0</td>\n",
       "    </tr>\n",
       "    <tr>\n",
       "      <th>17</th>\n",
       "      <td>7</td>\n",
       "      <td>30</td>\n",
       "      <td>73</td>\n",
       "      <td>15</td>\n",
       "      <td>0.0</td>\n",
       "      <td>86.6</td>\n",
       "      <td>5.6</td>\n",
       "      <td>13.5</td>\n",
       "      <td>1</td>\n",
       "      <td>0</td>\n",
       "    </tr>\n",
       "    <tr>\n",
       "      <th>18</th>\n",
       "      <td>201</td>\n",
       "      <td>36</td>\n",
       "      <td>81</td>\n",
       "      <td>15</td>\n",
       "      <td>0.0</td>\n",
       "      <td>83.7</td>\n",
       "      <td>3.8</td>\n",
       "      <td>38.1</td>\n",
       "      <td>1</td>\n",
       "      <td>1</td>\n",
       "    </tr>\n",
       "    <tr>\n",
       "      <th>19</th>\n",
       "      <td>120</td>\n",
       "      <td>26</td>\n",
       "      <td>80</td>\n",
       "      <td>16</td>\n",
       "      <td>1.8</td>\n",
       "      <td>47.4</td>\n",
       "      <td>0.3</td>\n",
       "      <td>3.0</td>\n",
       "      <td>0</td>\n",
       "      <td>0</td>\n",
       "    </tr>\n",
       "    <tr>\n",
       "      <th>20</th>\n",
       "      <td>174</td>\n",
       "      <td>33</td>\n",
       "      <td>63</td>\n",
       "      <td>17</td>\n",
       "      <td>1.1</td>\n",
       "      <td>72.8</td>\n",
       "      <td>1.6</td>\n",
       "      <td>21.7</td>\n",
       "      <td>0</td>\n",
       "      <td>1</td>\n",
       "    </tr>\n",
       "    <tr>\n",
       "      <th>21</th>\n",
       "      <td>199</td>\n",
       "      <td>37</td>\n",
       "      <td>37</td>\n",
       "      <td>14</td>\n",
       "      <td>0.0</td>\n",
       "      <td>94.3</td>\n",
       "      <td>16.0</td>\n",
       "      <td>35.9</td>\n",
       "      <td>1</td>\n",
       "      <td>1</td>\n",
       "    </tr>\n",
       "    <tr>\n",
       "      <th>22</th>\n",
       "      <td>83</td>\n",
       "      <td>36</td>\n",
       "      <td>53</td>\n",
       "      <td>16</td>\n",
       "      <td>0.0</td>\n",
       "      <td>89.5</td>\n",
       "      <td>10.4</td>\n",
       "      <td>47.5</td>\n",
       "      <td>1</td>\n",
       "      <td>0</td>\n",
       "    </tr>\n",
       "    <tr>\n",
       "      <th>23</th>\n",
       "      <td>186</td>\n",
       "      <td>34</td>\n",
       "      <td>42</td>\n",
       "      <td>17</td>\n",
       "      <td>0.1</td>\n",
       "      <td>88.3</td>\n",
       "      <td>19.0</td>\n",
       "      <td>23.5</td>\n",
       "      <td>1</td>\n",
       "      <td>1</td>\n",
       "    </tr>\n",
       "    <tr>\n",
       "      <th>24</th>\n",
       "      <td>21</td>\n",
       "      <td>31</td>\n",
       "      <td>67</td>\n",
       "      <td>17</td>\n",
       "      <td>0.1</td>\n",
       "      <td>79.1</td>\n",
       "      <td>2.4</td>\n",
       "      <td>9.7</td>\n",
       "      <td>0</td>\n",
       "      <td>0</td>\n",
       "    </tr>\n",
       "    <tr>\n",
       "      <th>25</th>\n",
       "      <td>164</td>\n",
       "      <td>39</td>\n",
       "      <td>45</td>\n",
       "      <td>13</td>\n",
       "      <td>0.6</td>\n",
       "      <td>85.2</td>\n",
       "      <td>4.2</td>\n",
       "      <td>10.9</td>\n",
       "      <td>1</td>\n",
       "      <td>1</td>\n",
       "    </tr>\n",
       "    <tr>\n",
       "      <th>26</th>\n",
       "      <td>92</td>\n",
       "      <td>25</td>\n",
       "      <td>76</td>\n",
       "      <td>17</td>\n",
       "      <td>7.2</td>\n",
       "      <td>46.0</td>\n",
       "      <td>0.2</td>\n",
       "      <td>1.8</td>\n",
       "      <td>0</td>\n",
       "      <td>0</td>\n",
       "    </tr>\n",
       "    <tr>\n",
       "      <th>27</th>\n",
       "      <td>189</td>\n",
       "      <td>37</td>\n",
       "      <td>56</td>\n",
       "      <td>11</td>\n",
       "      <td>0.0</td>\n",
       "      <td>87.4</td>\n",
       "      <td>5.2</td>\n",
       "      <td>11.0</td>\n",
       "      <td>1</td>\n",
       "      <td>1</td>\n",
       "    </tr>\n",
       "    <tr>\n",
       "      <th>28</th>\n",
       "      <td>6</td>\n",
       "      <td>33</td>\n",
       "      <td>54</td>\n",
       "      <td>13</td>\n",
       "      <td>0.0</td>\n",
       "      <td>88.2</td>\n",
       "      <td>6.4</td>\n",
       "      <td>10.9</td>\n",
       "      <td>1</td>\n",
       "      <td>0</td>\n",
       "    </tr>\n",
       "    <tr>\n",
       "      <th>29</th>\n",
       "      <td>87</td>\n",
       "      <td>33</td>\n",
       "      <td>82</td>\n",
       "      <td>21</td>\n",
       "      <td>0.0</td>\n",
       "      <td>84.9</td>\n",
       "      <td>4.4</td>\n",
       "      <td>59.3</td>\n",
       "      <td>1</td>\n",
       "      <td>0</td>\n",
       "    </tr>\n",
       "    <tr>\n",
       "      <th>30</th>\n",
       "      <td>214</td>\n",
       "      <td>28</td>\n",
       "      <td>67</td>\n",
       "      <td>19</td>\n",
       "      <td>0.0</td>\n",
       "      <td>75.4</td>\n",
       "      <td>2.0</td>\n",
       "      <td>4.0</td>\n",
       "      <td>0</td>\n",
       "      <td>1</td>\n",
       "    </tr>\n",
       "    <tr>\n",
       "      <th>31</th>\n",
       "      <td>12</td>\n",
       "      <td>27</td>\n",
       "      <td>84</td>\n",
       "      <td>21</td>\n",
       "      <td>1.2</td>\n",
       "      <td>50.0</td>\n",
       "      <td>0.5</td>\n",
       "      <td>6.7</td>\n",
       "      <td>0</td>\n",
       "      <td>0</td>\n",
       "    </tr>\n",
       "    <tr>\n",
       "      <th>32</th>\n",
       "      <td>184</td>\n",
       "      <td>39</td>\n",
       "      <td>33</td>\n",
       "      <td>17</td>\n",
       "      <td>0.0</td>\n",
       "      <td>93.7</td>\n",
       "      <td>17.2</td>\n",
       "      <td>16.9</td>\n",
       "      <td>1</td>\n",
       "      <td>1</td>\n",
       "    </tr>\n",
       "    <tr>\n",
       "      <th>33</th>\n",
       "      <td>198</td>\n",
       "      <td>42</td>\n",
       "      <td>24</td>\n",
       "      <td>9</td>\n",
       "      <td>0.0</td>\n",
       "      <td>96.0</td>\n",
       "      <td>15.7</td>\n",
       "      <td>30.4</td>\n",
       "      <td>1</td>\n",
       "      <td>1</td>\n",
       "    </tr>\n",
       "    <tr>\n",
       "      <th>34</th>\n",
       "      <td>78</td>\n",
       "      <td>36</td>\n",
       "      <td>54</td>\n",
       "      <td>18</td>\n",
       "      <td>0.0</td>\n",
       "      <td>89.4</td>\n",
       "      <td>9.7</td>\n",
       "      <td>27.5</td>\n",
       "      <td>1</td>\n",
       "      <td>0</td>\n",
       "    </tr>\n",
       "    <tr>\n",
       "      <th>35</th>\n",
       "      <td>52</td>\n",
       "      <td>27</td>\n",
       "      <td>66</td>\n",
       "      <td>22</td>\n",
       "      <td>0.4</td>\n",
       "      <td>68.2</td>\n",
       "      <td>1.8</td>\n",
       "      <td>15.4</td>\n",
       "      <td>0</td>\n",
       "      <td>0</td>\n",
       "    </tr>\n",
       "    <tr>\n",
       "      <th>36</th>\n",
       "      <td>23</td>\n",
       "      <td>32</td>\n",
       "      <td>66</td>\n",
       "      <td>17</td>\n",
       "      <td>0.0</td>\n",
       "      <td>85.9</td>\n",
       "      <td>5.6</td>\n",
       "      <td>14.9</td>\n",
       "      <td>1</td>\n",
       "      <td>0</td>\n",
       "    </tr>\n",
       "    <tr>\n",
       "      <th>37</th>\n",
       "      <td>127</td>\n",
       "      <td>35</td>\n",
       "      <td>54</td>\n",
       "      <td>11</td>\n",
       "      <td>0.1</td>\n",
       "      <td>83.7</td>\n",
       "      <td>3.1</td>\n",
       "      <td>9.3</td>\n",
       "      <td>1</td>\n",
       "      <td>1</td>\n",
       "    </tr>\n",
       "    <tr>\n",
       "      <th>38</th>\n",
       "      <td>224</td>\n",
       "      <td>31</td>\n",
       "      <td>72</td>\n",
       "      <td>14</td>\n",
       "      <td>0.0</td>\n",
       "      <td>84.2</td>\n",
       "      <td>3.8</td>\n",
       "      <td>9.1</td>\n",
       "      <td>1</td>\n",
       "      <td>1</td>\n",
       "    </tr>\n",
       "    <tr>\n",
       "      <th>39</th>\n",
       "      <td>231</td>\n",
       "      <td>29</td>\n",
       "      <td>41</td>\n",
       "      <td>8</td>\n",
       "      <td>0.1</td>\n",
       "      <td>83.9</td>\n",
       "      <td>2.7</td>\n",
       "      <td>28.9</td>\n",
       "      <td>1</td>\n",
       "      <td>1</td>\n",
       "    </tr>\n",
       "    <tr>\n",
       "      <th>40</th>\n",
       "      <td>122</td>\n",
       "      <td>32</td>\n",
       "      <td>71</td>\n",
       "      <td>12</td>\n",
       "      <td>0.7</td>\n",
       "      <td>57.1</td>\n",
       "      <td>0.6</td>\n",
       "      <td>2.8</td>\n",
       "      <td>0</td>\n",
       "      <td>1</td>\n",
       "    </tr>\n",
       "    <tr>\n",
       "      <th>41</th>\n",
       "      <td>242</td>\n",
       "      <td>24</td>\n",
       "      <td>64</td>\n",
       "      <td>15</td>\n",
       "      <td>0.2</td>\n",
       "      <td>67.3</td>\n",
       "      <td>1.2</td>\n",
       "      <td>4.8</td>\n",
       "      <td>0</td>\n",
       "      <td>1</td>\n",
       "    </tr>\n",
       "    <tr>\n",
       "      <th>42</th>\n",
       "      <td>24</td>\n",
       "      <td>31</td>\n",
       "      <td>64</td>\n",
       "      <td>15</td>\n",
       "      <td>0.0</td>\n",
       "      <td>86.7</td>\n",
       "      <td>5.7</td>\n",
       "      <td>18.3</td>\n",
       "      <td>1</td>\n",
       "      <td>0</td>\n",
       "    </tr>\n",
       "    <tr>\n",
       "      <th>43</th>\n",
       "      <td>32</td>\n",
       "      <td>32</td>\n",
       "      <td>76</td>\n",
       "      <td>20</td>\n",
       "      <td>0.7</td>\n",
       "      <td>63.1</td>\n",
       "      <td>1.3</td>\n",
       "      <td>3.0</td>\n",
       "      <td>0</td>\n",
       "      <td>0</td>\n",
       "    </tr>\n",
       "    <tr>\n",
       "      <th>44</th>\n",
       "      <td>233</td>\n",
       "      <td>35</td>\n",
       "      <td>34</td>\n",
       "      <td>17</td>\n",
       "      <td>0.0</td>\n",
       "      <td>92.2</td>\n",
       "      <td>13.8</td>\n",
       "      <td>29.4</td>\n",
       "      <td>1</td>\n",
       "      <td>1</td>\n",
       "    </tr>\n",
       "    <tr>\n",
       "      <th>45</th>\n",
       "      <td>226</td>\n",
       "      <td>28</td>\n",
       "      <td>81</td>\n",
       "      <td>15</td>\n",
       "      <td>0.0</td>\n",
       "      <td>84.6</td>\n",
       "      <td>4.3</td>\n",
       "      <td>14.3</td>\n",
       "      <td>1</td>\n",
       "      <td>1</td>\n",
       "    </tr>\n",
       "    <tr>\n",
       "      <th>46</th>\n",
       "      <td>227</td>\n",
       "      <td>32</td>\n",
       "      <td>51</td>\n",
       "      <td>13</td>\n",
       "      <td>0.0</td>\n",
       "      <td>88.7</td>\n",
       "      <td>6.9</td>\n",
       "      <td>17.8</td>\n",
       "      <td>1</td>\n",
       "      <td>1</td>\n",
       "    </tr>\n",
       "    <tr>\n",
       "      <th>47</th>\n",
       "      <td>145</td>\n",
       "      <td>35</td>\n",
       "      <td>68</td>\n",
       "      <td>16</td>\n",
       "      <td>0.0</td>\n",
       "      <td>85.3</td>\n",
       "      <td>4.9</td>\n",
       "      <td>9.9</td>\n",
       "      <td>1</td>\n",
       "      <td>1</td>\n",
       "    </tr>\n",
       "    <tr>\n",
       "      <th>48</th>\n",
       "      <td>10</td>\n",
       "      <td>31</td>\n",
       "      <td>65</td>\n",
       "      <td>14</td>\n",
       "      <td>0.0</td>\n",
       "      <td>84.5</td>\n",
       "      <td>4.0</td>\n",
       "      <td>15.8</td>\n",
       "      <td>1</td>\n",
       "      <td>0</td>\n",
       "    </tr>\n",
       "  </tbody>\n",
       "</table>\n",
       "</div>"
      ],
      "text/plain": [
       "    index  Temperature  RH  Ws  Rain  FFMC   ISI   BUI  Classes  region\n",
       "0     151           34  42  15   1.7  79.7   2.2  11.5        0       1\n",
       "1      31           27  75  19   1.2  55.7   0.8   2.8        0       0\n",
       "2      48           35  59  17   0.0  88.1   7.7  18.2        1       0\n",
       "3      61           36  45  14   0.0  78.8   2.0   4.7        0       0\n",
       "4     238           30  65  14   0.0  85.4   4.5  16.9        1       1\n",
       "5     230           36  33  13   0.1  90.6   9.0  28.2        1       1\n",
       "6     101           33  73  12   1.8  59.9   0.7   2.7        0       0\n",
       "7     147           36  62  16   0.0  87.8   7.0  16.4        1       1\n",
       "8     194           35  34  16   0.2  88.3   7.5  17.5        1       1\n",
       "9     106           24  82  15   0.4  44.9   0.2   1.4        0       0\n",
       "10    182           38  52  14   0.0  78.3   2.0   4.4        0       1\n",
       "11     11           26  81  19   0.0  84.0   4.8  17.7        1       0\n",
       "12    241           24  54  18   0.1  79.7   1.7   5.1        0       1\n",
       "13    229           34  44  12   0.0  92.5  11.2  26.2        1       1\n",
       "14     98           31  71  17   0.3  69.6   1.5   5.1        0       0\n",
       "15     63           35  63  14   0.3  76.6   1.7   5.5        0       0\n",
       "16     94           25  78  15   3.8  42.6   0.1   1.7        0       0\n",
       "17      7           30  73  15   0.0  86.6   5.6  13.5        1       0\n",
       "18    201           36  81  15   0.0  83.7   3.8  38.1        1       1\n",
       "19    120           26  80  16   1.8  47.4   0.3   3.0        0       0\n",
       "20    174           33  63  17   1.1  72.8   1.6  21.7        0       1\n",
       "21    199           37  37  14   0.0  94.3  16.0  35.9        1       1\n",
       "22     83           36  53  16   0.0  89.5  10.4  47.5        1       0\n",
       "23    186           34  42  17   0.1  88.3  19.0  23.5        1       1\n",
       "24     21           31  67  17   0.1  79.1   2.4   9.7        0       0\n",
       "25    164           39  45  13   0.6  85.2   4.2  10.9        1       1\n",
       "26     92           25  76  17   7.2  46.0   0.2   1.8        0       0\n",
       "27    189           37  56  11   0.0  87.4   5.2  11.0        1       1\n",
       "28      6           33  54  13   0.0  88.2   6.4  10.9        1       0\n",
       "29     87           33  82  21   0.0  84.9   4.4  59.3        1       0\n",
       "30    214           28  67  19   0.0  75.4   2.0   4.0        0       1\n",
       "31     12           27  84  21   1.2  50.0   0.5   6.7        0       0\n",
       "32    184           39  33  17   0.0  93.7  17.2  16.9        1       1\n",
       "33    198           42  24   9   0.0  96.0  15.7  30.4        1       1\n",
       "34     78           36  54  18   0.0  89.4   9.7  27.5        1       0\n",
       "35     52           27  66  22   0.4  68.2   1.8  15.4        0       0\n",
       "36     23           32  66  17   0.0  85.9   5.6  14.9        1       0\n",
       "37    127           35  54  11   0.1  83.7   3.1   9.3        1       1\n",
       "38    224           31  72  14   0.0  84.2   3.8   9.1        1       1\n",
       "39    231           29  41   8   0.1  83.9   2.7  28.9        1       1\n",
       "40    122           32  71  12   0.7  57.1   0.6   2.8        0       1\n",
       "41    242           24  64  15   0.2  67.3   1.2   4.8        0       1\n",
       "42     24           31  64  15   0.0  86.7   5.7  18.3        1       0\n",
       "43     32           32  76  20   0.7  63.1   1.3   3.0        0       0\n",
       "44    233           35  34  17   0.0  92.2  13.8  29.4        1       1\n",
       "45    226           28  81  15   0.0  84.6   4.3  14.3        1       1\n",
       "46    227           32  51  13   0.0  88.7   6.9  17.8        1       1\n",
       "47    145           35  68  16   0.0  85.3   4.9   9.9        1       1\n",
       "48     10           31  65  14   0.0  84.5   4.0  15.8        1       0"
      ]
     },
     "execution_count": 25,
     "metadata": {},
     "output_type": "execute_result"
    }
   ],
   "source": [
    "x_test.reset_index()"
   ]
  },
  {
   "cell_type": "code",
   "execution_count": 26,
   "id": "607966ee-86c1-4a91-a30e-31e3bae8233f",
   "metadata": {},
   "outputs": [
    {
     "data": {
      "text/plain": [
       "((194, 9), (49, 9))"
      ]
     },
     "execution_count": 26,
     "metadata": {},
     "output_type": "execute_result"
    }
   ],
   "source": [
    "x_train.shape,x_test.shape"
   ]
  },
  {
   "cell_type": "code",
   "execution_count": 27,
   "id": "dcd994e1-a325-456b-9c17-340d6ff9254f",
   "metadata": {},
   "outputs": [],
   "source": [
    "from sklearn.preprocessing import StandardScaler"
   ]
  },
  {
   "cell_type": "code",
   "execution_count": 28,
   "id": "7a07edbd-3005-40d9-a48f-b71d86427d0a",
   "metadata": {},
   "outputs": [],
   "source": [
    "scaler=StandardScaler()\n",
    "x_train_scaled=scaler.fit_transform(x_train)\n",
    "x_test_scaled=scaler.transform(x_test)"
   ]
  },
  {
   "cell_type": "code",
   "execution_count": 29,
   "id": "1ec9536d-6485-429b-bb4d-37866897ab76",
   "metadata": {},
   "outputs": [
    {
     "data": {
      "text/plain": [
       "array([[ 0.54242424, -1.54663987,  0.89337725, ...,  2.90805735,\n",
       "         0.89235436,  1.02083557],\n",
       "       [ 0.54242424, -0.4452932 ,  0.53380217, ..., -0.46081654,\n",
       "         0.89235436,  1.02083557],\n",
       "       [-0.92727273,  1.20672682, -0.54492305, ..., -0.988059  ,\n",
       "        -1.12063105,  1.02083557],\n",
       "       ...,\n",
       "       [-0.63333333, -0.72062986, -0.18534798, ..., -0.41973272,\n",
       "        -1.12063105,  1.02083557],\n",
       "       [ 0.54242424, -0.30762486,  0.89337725, ..., -0.20061897,\n",
       "         0.89235436,  1.02083557],\n",
       "       [ 1.13030303, -0.51412736, -0.90449813, ...,  0.3403181 ,\n",
       "         0.89235436, -0.97958969]])"
      ]
     },
     "execution_count": 29,
     "metadata": {},
     "output_type": "execute_result"
    }
   ],
   "source": [
    "x_train_scaled"
   ]
  },
  {
   "cell_type": "code",
   "execution_count": 30,
   "id": "ca4c547d-a926-42f7-96e1-befb214070f8",
   "metadata": {},
   "outputs": [
    {
     "data": {
      "text/plain": [
       "array([[ 0.54242424, -1.40897154, -0.18534798,  0.40419044,  0.13734221,\n",
       "        -0.61731301, -0.37864889, -1.12063105,  1.02083557],\n",
       "       [-1.51515152,  0.86255598,  1.25295232,  0.17164909, -1.53708909,\n",
       "        -0.96902733, -0.97436439, -1.12063105, -0.97958969],\n",
       "       [ 0.83636364, -0.23879069,  0.53380217, -0.38645018,  0.72339316,\n",
       "         0.7644218 ,  0.08012052,  0.89235436, -0.97958969],\n",
       "       [ 1.13030303, -1.20246904, -0.54492305, -0.38645018,  0.07455103,\n",
       "        -0.66755791, -0.84426561, -1.12063105, -0.97958969],\n",
       "       [-0.63333333,  0.17421431, -0.54492305, -0.38645018,  0.53501964,\n",
       "        -0.03949664, -0.00889444,  0.89235436,  1.02083557],\n",
       "       [ 1.13030303, -2.02847904, -0.90449813, -0.3399419 ,  0.89781308,\n",
       "         1.09101366,  0.76485099,  0.89235436,  1.02083557],\n",
       "       [ 0.24848485,  0.72488765, -1.2640732 ,  0.45069872, -1.24406361,\n",
       "        -0.99414978, -0.9812117 , -1.12063105, -0.97958969],\n",
       "       [ 1.13030303, -0.03228819,  0.1742271 , -0.38645018,  0.70246277,\n",
       "         0.58856464, -0.04313096,  0.89235436,  1.02083557],\n",
       "       [ 0.83636364, -1.95964488,  0.1742271 , -0.29343363,  0.73734675,\n",
       "         0.7141769 ,  0.03218939,  0.89235436,  1.02083557],\n",
       "       [-2.3969697 ,  1.34439515, -0.18534798, -0.20041709, -2.29058317,\n",
       "        -1.11976203, -1.07022666, -1.12063105, -0.97958969],\n",
       "       [ 1.71818182, -0.72062986, -0.54492305, -0.38645018,  0.03966705,\n",
       "        -0.66755791, -0.86480752, -1.12063105,  1.02083557],\n",
       "       [-1.80909091,  1.27556099,  1.25295232, -0.38645018,  0.43734448,\n",
       "         0.03587072,  0.045884  ,  0.89235436, -0.97958969],\n",
       "       [-2.3969697 , -0.58296153,  0.89337725, -0.3399419 ,  0.13734221,\n",
       "        -0.74292527, -0.81687639, -1.12063105,  1.02083557],\n",
       "       [ 0.54242424, -1.2713032 , -1.2640732 , -0.38645018,  1.03037223,\n",
       "         1.64370759,  0.6279049 ,  0.89235436,  1.02083557],\n",
       "       [-0.33939394,  0.58721931,  0.53380217, -0.24692536, -0.5673143 ,\n",
       "        -0.79317017, -0.81687639, -1.12063105, -0.97958969],\n",
       "       [ 0.83636364,  0.03654598, -0.54492305, -0.24692536, -0.0789385 ,\n",
       "        -0.74292527, -0.78948717, -1.12063105, -0.97958969],\n",
       "       [-2.1030303 ,  1.06905849, -0.18534798,  1.38086415, -2.4510495 ,\n",
       "        -1.14488449, -1.04968474, -1.12063105, -0.97958969],\n",
       "       [-0.63333333,  0.72488765, -0.18534798, -0.38645018,  0.6187412 ,\n",
       "         0.23685033, -0.2417028 ,  0.89235436, -0.97958969],\n",
       "       [ 1.13030303,  1.27556099, -0.18534798, -0.38645018,  0.41641409,\n",
       "        -0.21535379,  1.44273415,  0.89235436,  1.02083557],\n",
       "       [-1.80909091,  1.20672682,  0.1742271 ,  0.45069872, -2.11616324,\n",
       "        -1.09463958, -0.96066978, -1.12063105, -0.97958969],\n",
       "       [ 0.24848485,  0.03654598,  0.53380217,  0.12514081, -0.34405679,\n",
       "        -0.76804772,  0.31977619, -1.12063105,  1.02083557],\n",
       "       [ 1.42424242, -1.75314237, -0.54492305, -0.38645018,  1.15595458,\n",
       "         2.84958524,  1.29209345,  0.89235436,  1.02083557],\n",
       "       [ 1.13030303, -0.6517957 ,  0.1742271 , -0.38645018,  0.82106832,\n",
       "         1.44272798,  2.08638079,  0.89235436, -0.97958969],\n",
       "       [ 0.54242424, -1.40897154,  0.53380217, -0.3399419 ,  0.73734675,\n",
       "         3.60325877,  0.44302767,  0.89235436,  1.02083557],\n",
       "       [-0.33939394,  0.31188264,  0.53380217, -0.3399419 ,  0.09548142,\n",
       "        -0.56706811, -0.50190037, -1.12063105, -0.97958969],\n",
       "       [ 2.01212121, -1.20246904, -0.90449813, -0.10740054,  0.52106604,\n",
       "        -0.11486399, -0.41973272,  0.89235436,  1.02083557],\n",
       "       [-2.1030303 ,  0.93139015,  0.53380217,  2.96214539, -2.2138384 ,\n",
       "        -1.11976203, -1.04283744, -1.12063105, -0.97958969],\n",
       "       [ 1.42424242, -0.4452932 , -1.62364827, -0.38645018,  0.67455558,\n",
       "         0.13636052, -0.41288541,  0.89235436,  1.02083557],\n",
       "       [ 0.24848485, -0.58296153, -0.90449813, -0.38645018,  0.73036996,\n",
       "         0.43782993, -0.41973272,  0.89235436, -0.97958969],\n",
       "       [ 0.24848485,  1.34439515,  1.97210247, -0.38645018,  0.50013565,\n",
       "        -0.06461909,  2.89436274,  0.89235436, -0.97958969],\n",
       "       [-1.22121212,  0.31188264,  1.25295232, -0.38645018, -0.16266007,\n",
       "        -0.66755791, -0.89219674, -1.12063105,  1.02083557],\n",
       "       [-1.51515152,  1.48206349,  1.97210247,  0.17164909, -1.93476652,\n",
       "        -1.04439468, -0.70731951, -1.12063105, -0.97958969],\n",
       "       [ 2.01212121, -2.02847904,  0.53380217, -0.38645018,  1.11409379,\n",
       "         3.15105465, -0.00889444,  0.89235436,  1.02083557],\n",
       "       [ 2.89393939, -2.64798655, -2.34279842, -0.38645018,  1.27456013,\n",
       "         2.77421789,  0.91549169,  0.89235436,  1.02083557],\n",
       "       [ 1.13030303, -0.58296153,  0.89337725, -0.38645018,  0.81409152,\n",
       "         1.26687082,  0.71691986,  0.89235436, -0.97958969],\n",
       "       [-1.51515152,  0.24304848,  2.33167754, -0.20041709, -0.66498946,\n",
       "        -0.71780282, -0.11160401, -1.12063105, -0.97958969],\n",
       "       [-0.04545455,  0.24304848,  0.53380217, -0.38645018,  0.56990362,\n",
       "         0.23685033, -0.14584053,  0.89235436, -0.97958969],\n",
       "       [ 0.83636364, -0.58296153, -1.62364827, -0.3399419 ,  0.41641409,\n",
       "        -0.39121095, -0.52928959,  0.89235436,  1.02083557],\n",
       "       [-0.33939394,  0.65605348, -0.54492305, -0.38645018,  0.45129807,\n",
       "        -0.21535379, -0.5429842 ,  0.89235436,  1.02083557],\n",
       "       [-0.92727273, -1.47780571, -2.7023735 , -0.3399419 ,  0.43036768,\n",
       "        -0.49170076,  0.81278212,  0.89235436,  1.02083557],\n",
       "       [-0.04545455,  0.58721931, -1.2640732 , -0.06089227, -1.43941393,\n",
       "        -1.01927223, -0.97436439, -1.12063105,  1.02083557],\n",
       "       [-2.3969697 ,  0.10538014, -0.18534798, -0.29343363, -0.72778063,\n",
       "        -0.86853752, -0.8374183 , -1.12063105,  1.02083557],\n",
       "       [-0.33939394,  0.10538014, -0.18534798, -0.38645018,  0.625718  ,\n",
       "         0.26197278,  0.08696783,  0.89235436, -0.97958969],\n",
       "       [-0.04545455,  0.93139015,  1.61252739, -0.06089227, -1.0208061 ,\n",
       "        -0.84341507, -0.96066978, -1.12063105, -0.97958969],\n",
       "       [ 0.83636364, -1.95964488,  0.53380217, -0.38645018,  1.00944184,\n",
       "         2.29689131,  0.84701865,  0.89235436,  1.02083557],\n",
       "       [-1.22121212,  1.27556099, -0.18534798, -0.38645018,  0.47920526,\n",
       "        -0.08974154, -0.18692436,  0.89235436,  1.02083557],\n",
       "       [-0.04545455, -0.78946403, -0.90449813, -0.38645018,  0.76525394,\n",
       "         0.56344219,  0.0527313 ,  0.89235436,  1.02083557],\n",
       "       [ 0.83636364,  0.38071681,  0.1742271 , -0.38645018,  0.52804284,\n",
       "         0.06099317, -0.48820576,  0.89235436,  1.02083557],\n",
       "       [-0.33939394,  0.17421431, -0.54492305, -0.38645018,  0.47222846,\n",
       "        -0.16510889, -0.08421479,  0.89235436, -0.97958969]])"
      ]
     },
     "execution_count": 30,
     "metadata": {},
     "output_type": "execute_result"
    }
   ],
   "source": [
    "x_test_scaled"
   ]
  },
  {
   "cell_type": "code",
   "execution_count": 31,
   "id": "b4d4dab3-5f4c-443d-b61d-b218ef5f9c33",
   "metadata": {},
   "outputs": [],
   "source": [
    "## Box plot to understand efefct of standard scalar"
   ]
  },
  {
   "cell_type": "code",
   "execution_count": 32,
   "id": "2ae04e5a-9e6b-4bc5-ab55-e0fb79668287",
   "metadata": {},
   "outputs": [
    {
     "name": "stderr",
     "output_type": "stream",
     "text": [
      "/tmp/ipykernel_560/4104899624.py:2: MatplotlibDeprecationWarning: Auto-removal of overlapping axes is deprecated since 3.6 and will be removed two minor releases later; explicitly call ax.remove() as needed.\n",
      "  plt.subplot(1,2,1)\n"
     ]
    },
    {
     "data": {
      "text/plain": [
       "Text(0.5, 1.0, 'box plot after scaled')"
      ]
     },
     "execution_count": 32,
     "metadata": {},
     "output_type": "execute_result"
    },
    {
     "data": {
      "image/png": "[encoded data removed]",
      "text/plain": [
       "<Figure size 1000x1000 with 2 Axes>"
      ]
     },
     "metadata": {},
     "output_type": "display_data"
    }
   ],
   "source": [
    "plt.subplots(figsize=(10,10))\n",
    "plt.subplot(1,2,1)\n",
    "sns.boxplot(x_train)\n",
    "plt.title(\"box plot before scaled\")\n",
    "plt.subplot(1,2,2)\n",
    "sns.boxplot(x_train_scaled)\n",
    "plt.title(\"box plot after scaled\")"
   ]
  },
  {
   "cell_type": "markdown",
   "id": "8288cce2-1d97-4130-92ee-2dc3db21078a",
   "metadata": {},
   "source": [
    "#### Linear regressor model"
   ]
  },
  {
   "cell_type": "code",
   "execution_count": 48,
   "id": "1de0b184-d4be-4870-95ad-8ab1d789d891",
   "metadata": {},
   "outputs": [],
   "source": [
    "from sklearn.linear_model import LinearRegression\n",
    "lin_reg=LinearRegression()\n",
    "lin_reg.fit(x_train_scaled,y_train)\n",
    "y_pred=lin_reg.predict(x_test_scaled)"
   ]
  },
  {
   "cell_type": "code",
   "execution_count": 49,
   "id": "3e06b2ae-9aa1-4beb-b6e7-ad7b4dd960fc",
   "metadata": {},
   "outputs": [
    {
     "data": {
      "text/plain": [
       "array([-0.07435604,  0.04725108, -0.02391038,  0.01785151, -0.97007697,\n",
       "        5.37678596,  3.52841127,  0.11219839, -0.01385427])"
      ]
     },
     "execution_count": 49,
     "metadata": {},
     "output_type": "execute_result"
    }
   ],
   "source": [
    "lin_reg.coef_"
   ]
  },
  {
   "cell_type": "code",
   "execution_count": 50,
   "id": "4adb4d18-a9e1-449c-8cea-2d63e7a25938",
   "metadata": {},
   "outputs": [
    {
     "data": {
      "text/plain": [
       "7.071649484536085"
      ]
     },
     "execution_count": 50,
     "metadata": {},
     "output_type": "execute_result"
    }
   ],
   "source": [
    "lin_reg.intercept_"
   ]
  },
  {
   "cell_type": "code",
   "execution_count": 51,
   "id": "15809a93-4fc6-43e1-888c-2b3e80ca3e0e",
   "metadata": {},
   "outputs": [
    {
     "data": {
      "text/plain": [
       "array([ 2.04809129, -0.07110512, 10.78329128,  0.18420322,  6.45632342,\n",
       "       14.68720099, -0.58707805,  9.39195158, 10.23170978, -0.37278332,\n",
       "        0.09690369,  7.27378189,  0.0449692 , 17.13438026,  0.39865578,\n",
       "        0.20403831, -0.28635422,  7.08465866, 10.66008153, -0.06753581,\n",
       "        4.23692986, 25.73430104, 21.3817838 , 27.25373934,  2.06808977,\n",
       "        4.36684266, -0.35270097,  5.68458994,  7.31866109, 16.55622608,\n",
       "        0.4208973 ,  0.86375989, 22.72291039, 23.77662919, 15.59704149,\n",
       "        3.41613794,  7.38660146,  2.72568395,  3.7084164 ,  7.02186407,\n",
       "       -0.52998706,  0.19548227,  8.32152524,  0.03299392, 21.34246794,\n",
       "        5.69930339,  9.6116428 ,  5.1954776 ,  5.58194257])"
      ]
     },
     "execution_count": 51,
     "metadata": {},
     "output_type": "execute_result"
    }
   ],
   "source": [
    "y_pred"
   ]
  },
  {
   "cell_type": "code",
   "execution_count": 52,
   "id": "6da8142d-6b1c-414d-9d63-ab7ce0e53b06",
   "metadata": {},
   "outputs": [
    {
     "name": "stdout",
     "output_type": "stream",
     "text": [
      "Mean absolute error is  0.8512968662713797\n"
     ]
    }
   ],
   "source": [
    "from sklearn.metrics import mean_absolute_error\n",
    "mae=mean_absolute_error(y_test,y_pred)\n",
    "print(\"Mean absolute error is \", mae)"
   ]
  },
  {
   "cell_type": "code",
   "execution_count": 53,
   "id": "04105935-20a5-4d91-aa0b-ea47c6917806",
   "metadata": {},
   "outputs": [
    {
     "name": "stdout",
     "output_type": "stream",
     "text": [
      "R2 score is 0.8973604236569233\n"
     ]
    }
   ],
   "source": [
    "from sklearn.metrics import r2_score\n",
    "score=r2_score(y_test,y_pred)\n",
    "print(\"R2 score is\", score)"
   ]
  },
  {
   "cell_type": "code",
   "execution_count": 54,
   "id": "cb6d9e18-af99-4d4a-afd3-707f4f9fc473",
   "metadata": {},
   "outputs": [
    {
     "data": {
      "text/plain": [
       "<matplotlib.collections.PathCollection at 0x7fe682e2dc60>"
      ]
     },
     "execution_count": 54,
     "metadata": {},
     "output_type": "execute_result"
    },
    {
     "data": {
      "image/png": "[encoded data removed]",
      "text/plain": [
       "<Figure size 640x480 with 1 Axes>"
      ]
     },
     "metadata": {},
     "output_type": "display_data"
    }
   ],
   "source": [
    "plt.scatter(y_test,y_pred)"
   ]
  },
  {
   "cell_type": "code",
   "execution_count": 55,
   "id": "605e163d-b5b4-4fd8-b3f6-82b256ad62a1",
   "metadata": {},
   "outputs": [
    {
     "data": {
      "text/plain": [
       "<matplotlib.collections.PathCollection at 0x7fe68313e9b0>"
      ]
     },
     "execution_count": 55,
     "metadata": {},
     "output_type": "execute_result"
    },
    {
     "data": {
      "image/png": "[encoded data removed]",
      "text/plain": [
       "<Figure size 640x480 with 1 Axes>"
      ]
     },
     "metadata": {},
     "output_type": "display_data"
    }
   ],
   "source": [
    "plt.scatter(y_pred,y_test)"
   ]
  },
  {
   "cell_type": "markdown",
   "id": "2cc91138-a60a-4359-b29b-238d821f068b",
   "metadata": {},
   "source": [
    "### Lasso regression"
   ]
  },
  {
   "cell_type": "code",
   "execution_count": 56,
   "id": "e0127002-ed56-48d7-b83d-b8fc6f3013ee",
   "metadata": {},
   "outputs": [],
   "source": [
    "from sklearn.linear_model import Lasso\n",
    "Las_reg=Lasso()\n",
    "Las_reg.fit(x_train_scaled,y_train)\n",
    "y_pred=Las_reg.predict(x_test_scaled)"
   ]
  },
  {
   "cell_type": "code",
   "execution_count": 57,
   "id": "c858dbdc-63ec-4d4e-af41-eba4f8699318",
   "metadata": {},
   "outputs": [
    {
     "name": "stdout",
     "output_type": "stream",
     "text": [
      "r2 score is  0.9210542083663713\n",
      "mae is  1.1730889574452046\n"
     ]
    }
   ],
   "source": [
    "from sklearn.metrics import r2_score\n",
    "from sklearn.metrics import mean_absolute_error\n",
    "score=r2_score(y_test,y_pred)\n",
    "mae=mean_absolute_error(y_test,y_pred)\n",
    "print(\"r2 score is \", score)\n",
    "print(\"mae is \", mae)"
   ]
  },
  {
   "cell_type": "code",
   "execution_count": 58,
   "id": "eb4a83b2-6e86-4341-a30e-81652888604f",
   "metadata": {},
   "outputs": [
    {
     "data": {
      "text/plain": [
       "7.071649484536084"
      ]
     },
     "execution_count": 58,
     "metadata": {},
     "output_type": "execute_result"
    }
   ],
   "source": [
    "Las_reg.intercept_"
   ]
  },
  {
   "cell_type": "code",
   "execution_count": 59,
   "id": "85c87c53-f089-4921-a83d-5cf6daed274d",
   "metadata": {},
   "outputs": [
    {
     "data": {
      "text/plain": [
       "array([ 0.        , -0.        ,  0.        , -0.        ,  0.        ,\n",
       "        4.13856672,  2.78804624,  0.        ,  0.        ])"
      ]
     },
     "execution_count": 59,
     "metadata": {},
     "output_type": "execute_result"
    }
   ],
   "source": [
    "Las_reg.coef_"
   ]
  },
  {
   "cell_type": "code",
   "execution_count": 60,
   "id": "b1c0f9f4-775a-4d2c-9d12-5c7ab5d3a220",
   "metadata": {},
   "outputs": [
    {
     "data": {
      "text/plain": [
       "1.0"
      ]
     },
     "execution_count": 60,
     "metadata": {},
     "output_type": "execute_result"
    }
   ],
   "source": [
    "Las_reg.alpha"
   ]
  },
  {
   "cell_type": "markdown",
   "id": "6fd4257d-1204-4a55-af30-d449b0b50865",
   "metadata": {},
   "source": [
    "#### Lasso score is worst than Simple liner regression, and Lasso mean absolute error is higher than simple liner regression model"
   ]
  },
  {
   "cell_type": "code",
   "execution_count": 61,
   "id": "be8d0b02-22dd-41b6-b540-e3171f49cdc3",
   "metadata": {},
   "outputs": [
    {
     "data": {
      "text/plain": [
       "<matplotlib.collections.PathCollection at 0x7fe6831e3af0>"
      ]
     },
     "execution_count": 61,
     "metadata": {},
     "output_type": "execute_result"
    },
    {
     "data": {
      "image/png": "[encoded data removed]",
      "text/plain": [
       "<Figure size 640x480 with 1 Axes>"
      ]
     },
     "metadata": {},
     "output_type": "display_data"
    }
   ],
   "source": [
    "plt.scatter(y_test,y_pred)"
   ]
  },
  {
   "cell_type": "code",
   "execution_count": 62,
   "id": "e9e59690-7b04-4bec-88aa-9b7a00839110",
   "metadata": {},
   "outputs": [],
   "source": [
    "from sklearn.linear_model import LassoCV\n",
    "Las_CV_reg=LassoCV(cv=5) ## default CV is 2\n",
    "Las_CV_reg.fit(x_train_scaled,y_train)\n",
    "y_pred=Las_CV_reg.predict(x_test_scaled)"
   ]
  },
  {
   "cell_type": "code",
   "execution_count": 63,
   "id": "3bb936a3-8a9e-405a-a663-49cdb97c7aca",
   "metadata": {},
   "outputs": [
    {
     "name": "stdout",
     "output_type": "stream",
     "text": [
      "r2 score is  0.9002066084339915\n",
      "mae is  0.8393235006194903\n"
     ]
    },
    {
     "data": {
      "text/plain": [
       "<matplotlib.collections.PathCollection at 0x7fe682cf8310>"
      ]
     },
     "execution_count": 63,
     "metadata": {},
     "output_type": "execute_result"
    },
    {
     "data": {
      "image/png": "[encoded data removed]",
      "text/plain": [
       "<Figure size 640x480 with 1 Axes>"
      ]
     },
     "metadata": {},
     "output_type": "display_data"
    }
   ],
   "source": [
    "from sklearn.metrics import r2_score\n",
    "from sklearn.metrics import mean_absolute_error\n",
    "score=r2_score(y_test,y_pred)\n",
    "mae=mean_absolute_error(y_test,y_pred)\n",
    "print(\"r2 score is \", score)\n",
    "print(\"mae is \", mae)\n",
    "plt.scatter(y_test,y_pred)"
   ]
  },
  {
   "cell_type": "code",
   "execution_count": 64,
   "id": "b374430c-052e-48cf-b755-cc8edff3e300",
   "metadata": {},
   "outputs": [
    {
     "data": {
      "text/plain": [
       "array([-0.05041423,  0.01281506,  0.        ,  0.        , -0.87357465,\n",
       "        5.28359385,  3.50877627,  0.06114337, -0.        ])"
      ]
     },
     "execution_count": 64,
     "metadata": {},
     "output_type": "execute_result"
    }
   ],
   "source": [
    "Las_CV_reg.coef_"
   ]
  },
  {
   "cell_type": "code",
   "execution_count": 65,
   "id": "d83c1c4f-cc3b-4dbf-a272-301b3d1b669a",
   "metadata": {},
   "outputs": [
    {
     "data": {
      "text/plain": [
       "7.071649484536085"
      ]
     },
     "execution_count": 65,
     "metadata": {},
     "output_type": "execute_result"
    }
   ],
   "source": [
    "Las_CV_reg.intercept_"
   ]
  },
  {
   "cell_type": "markdown",
   "id": "302423aa-255d-4949-a62a-8b0a287c2003",
   "metadata": {},
   "source": [
    "## Ridge Regression"
   ]
  },
  {
   "cell_type": "code",
   "execution_count": 66,
   "id": "d54178c6-9c2a-4cde-b3b6-13e8e14d4213",
   "metadata": {},
   "outputs": [],
   "source": [
    "from sklearn.linear_model import Ridge\n",
    "Ridge_reg=Ridge()\n",
    "Ridge_reg.fit(x_train_scaled,y_train)\n",
    "y_pred=Ridge_reg.predict(x_test_scaled)"
   ]
  },
  {
   "cell_type": "code",
   "execution_count": 67,
   "id": "4a63f479-5aad-4466-9e3c-555ea23cb454",
   "metadata": {},
   "outputs": [
    {
     "name": "stdout",
     "output_type": "stream",
     "text": [
      "r2 score is  0.9005168742345623\n",
      "mae is  0.8471188018164033\n"
     ]
    },
    {
     "data": {
      "text/plain": [
       "<matplotlib.collections.PathCollection at 0x7fe682c9c400>"
      ]
     },
     "execution_count": 67,
     "metadata": {},
     "output_type": "execute_result"
    },
    {
     "data": {
      "image/png": "[encoded data removed]",
      "text/plain": [
       "<Figure size 640x480 with 1 Axes>"
      ]
     },
     "metadata": {},
     "output_type": "display_data"
    }
   ],
   "source": [
    "from sklearn.metrics import r2_score\n",
    "from sklearn.metrics import mean_absolute_error\n",
    "score=r2_score(y_test,y_pred)\n",
    "mae=mean_absolute_error(y_test,y_pred)\n",
    "print(\"r2 score is \", score)\n",
    "print(\"mae is \", mae)\n",
    "plt.scatter(y_test,y_pred)"
   ]
  },
  {
   "cell_type": "code",
   "execution_count": 68,
   "id": "ed994f16-93ac-4257-b345-fb6722cb7b8a",
   "metadata": {},
   "outputs": [
    {
     "data": {
      "text/plain": [
       "array([-6.98288930e-02,  1.16052010e-02, -3.44449596e-03,  1.64604622e-02,\n",
       "       -9.33169103e-01,  5.26690532e+00,  3.52306166e+00,  1.50264601e-01,\n",
       "       -9.91536556e-03])"
      ]
     },
     "execution_count": 68,
     "metadata": {},
     "output_type": "execute_result"
    }
   ],
   "source": [
    "Ridge_reg.coef_"
   ]
  },
  {
   "cell_type": "code",
   "execution_count": 69,
   "id": "1d747583-14ed-4dda-9988-38db3a7a8323",
   "metadata": {},
   "outputs": [
    {
     "data": {
      "text/plain": [
       "7.071649484536085"
      ]
     },
     "execution_count": 69,
     "metadata": {},
     "output_type": "execute_result"
    }
   ],
   "source": [
    "Ridge_reg.intercept_"
   ]
  },
  {
   "cell_type": "code",
   "execution_count": 70,
   "id": "2b3158e1-cfff-430d-87d6-2a6bb09d88f3",
   "metadata": {},
   "outputs": [],
   "source": [
    "from sklearn.linear_model import RidgeCV\n",
    "RidgeCV_reg=RidgeCV(cv=5)\n",
    "RidgeCV_reg.fit(x_train_scaled,y_train)\n",
    "y_pred=RidgeCV_reg.predict(x_test_scaled)"
   ]
  },
  {
   "cell_type": "code",
   "execution_count": 71,
   "id": "347b0cdf-43fe-42ee-bd4d-32124aa0cacd",
   "metadata": {},
   "outputs": [
    {
     "name": "stdout",
     "output_type": "stream",
     "text": [
      "r2 score is  0.8976944542399148\n",
      "mae is  0.8507317712641165\n"
     ]
    },
    {
     "data": {
      "text/plain": [
       "<matplotlib.collections.PathCollection at 0x7fe682e2c220>"
      ]
     },
     "execution_count": 71,
     "metadata": {},
     "output_type": "execute_result"
    },
    {
     "data": {
      "image/png": "[encoded data removed]",
      "text/plain": [
       "<Figure size 640x480 with 1 Axes>"
      ]
     },
     "metadata": {},
     "output_type": "display_data"
    }
   ],
   "source": [
    "from sklearn.metrics import r2_score\n",
    "from sklearn.metrics import mean_absolute_error\n",
    "score=r2_score(y_test,y_pred)\n",
    "mae=mean_absolute_error(y_test,y_pred)\n",
    "print(\"r2 score is \", score)\n",
    "print(\"mae is \", mae)\n",
    "plt.scatter(y_test,y_pred)"
   ]
  },
  {
   "cell_type": "code",
   "execution_count": 72,
   "id": "ad6e3ee8-36c9-439b-86d5-a2fac2516c10",
   "metadata": {},
   "outputs": [
    {
     "data": {
      "text/plain": [
       "array([-0.07391853,  0.0435405 , -0.02180596,  0.01770134, -0.96634999,\n",
       "        5.36547804,  3.52793483,  0.11614111, -0.0134531 ])"
      ]
     },
     "execution_count": 72,
     "metadata": {},
     "output_type": "execute_result"
    }
   ],
   "source": [
    "RidgeCV_reg.coef_"
   ]
  },
  {
   "cell_type": "code",
   "execution_count": 73,
   "id": "4597a158-4dc5-4733-930f-e64a43b819a7",
   "metadata": {},
   "outputs": [
    {
     "data": {
      "text/plain": [
       "7.071649484536085"
      ]
     },
     "execution_count": 73,
     "metadata": {},
     "output_type": "execute_result"
    }
   ],
   "source": [
    "RidgeCV_reg.intercept_"
   ]
  },
  {
   "cell_type": "code",
   "execution_count": 74,
   "id": "077ac222-1d41-4f1c-85ed-9d4602abc3c7",
   "metadata": {},
   "outputs": [
    {
     "data": {
      "text/plain": [
       "{'alpha_per_target': False,\n",
       " 'alphas': (0.1, 1.0, 10.0),\n",
       " 'cv': 5,\n",
       " 'fit_intercept': True,\n",
       " 'gcv_mode': None,\n",
       " 'scoring': None,\n",
       " 'store_cv_values': False}"
      ]
     },
     "execution_count": 74,
     "metadata": {},
     "output_type": "execute_result"
    }
   ],
   "source": [
    "RidgeCV_reg.get_params()"
   ]
  },
  {
   "cell_type": "markdown",
   "id": "7fbcd634-faee-4b9d-8d25-4b66142a6044",
   "metadata": {},
   "source": [
    "## ElasticNet regression"
   ]
  },
  {
   "cell_type": "code",
   "execution_count": 75,
   "id": "1d924d80-0fd3-4014-accb-ec10eecd2474",
   "metadata": {},
   "outputs": [],
   "source": [
    "from sklearn.linear_model import ElasticNet\n",
    "ElasticNet_reg=ElasticNet()\n",
    "ElasticNet_reg.fit(x_train_scaled,y_train)\n",
    "y_pred=ElasticNet_reg.predict(x_test_scaled)"
   ]
  },
  {
   "cell_type": "code",
   "execution_count": 76,
   "id": "8095ba0f-8aad-49f5-a0a0-4753e9921a58",
   "metadata": {},
   "outputs": [
    {
     "name": "stdout",
     "output_type": "stream",
     "text": [
      "r2 score is  0.8868192057948031\n",
      "mae is  1.7504761732333527\n"
     ]
    },
    {
     "data": {
      "text/plain": [
       "<matplotlib.collections.PathCollection at 0x7fe6830545e0>"
      ]
     },
     "execution_count": 76,
     "metadata": {},
     "output_type": "execute_result"
    },
    {
     "data": {
      "image/png": "[encoded data removed]",
      "text/plain": [
       "<Figure size 640x480 with 1 Axes>"
      ]
     },
     "metadata": {},
     "output_type": "display_data"
    }
   ],
   "source": [
    "from sklearn.metrics import r2_score\n",
    "from sklearn.metrics import mean_absolute_error\n",
    "score=r2_score(y_test,y_pred)\n",
    "mae=mean_absolute_error(y_test,y_pred)\n",
    "print(\"r2 score is \", score)\n",
    "print(\"mae is \", mae)\n",
    "plt.scatter(y_test,y_pred)"
   ]
  },
  {
   "cell_type": "code",
   "execution_count": 77,
   "id": "b5ba7f3c-a59f-454c-b55a-3e2be49b9b02",
   "metadata": {},
   "outputs": [
    {
     "data": {
      "text/plain": [
       "array([ 0.14421172, -0.39509937,  0.00406717, -0.        ,  0.28023451,\n",
       "        2.50489068,  2.36209901,  0.78922869,  0.        ])"
      ]
     },
     "execution_count": 77,
     "metadata": {},
     "output_type": "execute_result"
    }
   ],
   "source": [
    "ElasticNet_reg.coef_"
   ]
  },
  {
   "cell_type": "code",
   "execution_count": 78,
   "id": "50b4f60d-faef-4971-a4ed-cd256fdc26c0",
   "metadata": {},
   "outputs": [
    {
     "data": {
      "text/plain": [
       "7.071649484536083"
      ]
     },
     "execution_count": 78,
     "metadata": {},
     "output_type": "execute_result"
    }
   ],
   "source": [
    "ElasticNet_reg.intercept_"
   ]
  },
  {
   "cell_type": "code",
   "execution_count": 79,
   "id": "a08c147c-6e2d-433b-93d2-24bd6986b036",
   "metadata": {},
   "outputs": [],
   "source": [
    "from sklearn.linear_model import ElasticNetCV\n",
    "ElasticNetCV_reg=ElasticNetCV()\n",
    "ElasticNetCV_reg.fit(x_train_scaled,y_train)\n",
    "y_pred=ElasticNetCV_reg.predict(x_test_scaled)"
   ]
  },
  {
   "cell_type": "code",
   "execution_count": 80,
   "id": "4cece07a-1497-45fe-9500-24b46d2237a6",
   "metadata": {},
   "outputs": [
    {
     "name": "stdout",
     "output_type": "stream",
     "text": [
      "r2 score is  0.9022423125116991\n",
      "mae is  0.8426488711084663\n"
     ]
    },
    {
     "data": {
      "text/plain": [
       "<matplotlib.collections.PathCollection at 0x7fe682744c10>"
      ]
     },
     "execution_count": 80,
     "metadata": {},
     "output_type": "execute_result"
    },
    {
     "data": {
      "image/png": "[encoded data removed]",
      "text/plain": [
       "<Figure size 640x480 with 1 Axes>"
      ]
     },
     "metadata": {},
     "output_type": "display_data"
    }
   ],
   "source": [
    "from sklearn.metrics import r2_score\n",
    "from sklearn.metrics import mean_absolute_error\n",
    "score=r2_score(y_test,y_pred)\n",
    "mae=mean_absolute_error(y_test,y_pred)\n",
    "print(\"r2 score is \", score)\n",
    "print(\"mae is \", mae)\n",
    "plt.scatter(y_test,y_pred)"
   ]
  },
  {
   "cell_type": "code",
   "execution_count": 82,
   "id": "df7dff2e-97a8-4c8f-a666-2158e4f403d6",
   "metadata": {},
   "outputs": [
    {
     "data": {
      "text/plain": [
       "array([-5.91291028e-02,  0.00000000e+00,  6.27052859e-03,  1.18876846e-02,\n",
       "       -8.88247057e-01,  5.20822893e+00,  3.51329120e+00,  1.45117870e-01,\n",
       "       -8.27263754e-04])"
      ]
     },
     "execution_count": 82,
     "metadata": {},
     "output_type": "execute_result"
    }
   ],
   "source": [
    "ElasticNetCV_reg.coef_"
   ]
  },
  {
   "cell_type": "code",
   "execution_count": 83,
   "id": "eae32b26-fd88-4ad6-8dd5-744dc15f6d3d",
   "metadata": {},
   "outputs": [
    {
     "data": {
      "text/plain": [
       "7.071649484536085"
      ]
     },
     "execution_count": 83,
     "metadata": {},
     "output_type": "execute_result"
    }
   ],
   "source": [
    "ElasticNetCV_reg.intercept_"
   ]
  },
  {
   "cell_type": "markdown",
   "id": "e387d101-4d0b-4042-91fe-16e0ab9625f5",
   "metadata": {},
   "source": [
    "## pickle ML model preprocessing standard scalar"
   ]
  },
  {
   "cell_type": "code",
   "execution_count": 57,
   "id": "2550341d-bd10-46cb-a85a-80de05927dee",
   "metadata": {},
   "outputs": [],
   "source": [
    "import pickle\n",
    "pickle.dump(scaler,open('scaler.pkl','wb'))\n",
    "pickle.dump(Las_reg,open('Las_reg.pkl','wb'))"
   ]
  }
 ],
 "metadata": {
  "kernelspec": {
   "display_name": "Python 3.8.10 64-bit",
   "language": "python",
   "name": "python3"
  },
  "language_info": {
   "codemirror_mode": {
    "name": "ipython",
    "version": 3
   },
   "file_extension": ".py",
   "mimetype": "text/x-python",
   "name": "python",
   "nbconvert_exporter": "python",
   "pygments_lexer": "ipython3",
   "version": "3.8.10"
  },
  "vscode": {
   "interpreter": {
    "hash": "e7370f93d1d0cde622a1f8e1c04877d8463912d04d973331ad4851f04de6915a"
   }
  }
 },
 "nbformat": 4,
 "nbformat_minor": 5
}
